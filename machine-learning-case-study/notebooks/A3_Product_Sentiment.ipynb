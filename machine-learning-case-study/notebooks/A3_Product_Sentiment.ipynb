{
 "cells": [
  {
   "cell_type": "code",
   "execution_count": null,
   "metadata": {},
   "outputs": [],
   "source": [
    "selected_words = ['awesome', 'great', 'fantastic', 'amazing', 'love', 'horrible', 'bad', 'terrible', 'awful', 'wow', 'hate']"
   ]
  },
  {
   "cell_type": "code",
   "execution_count": 53,
   "metadata": {},
   "outputs": [],
   "source": [
    "import turicreate\n",
    "import pandas as pd"
   ]
  },
  {
   "cell_type": "code",
   "execution_count": 54,
   "metadata": {},
   "outputs": [],
   "source": [
    "products = turicreate.SFrame('~/Courses/u-wash-machine-learning/machine-learning-case-study/data/amazon_baby.sframe')"
   ]
  },
  {
   "cell_type": "code",
   "execution_count": 155,
   "metadata": {},
   "outputs": [],
   "source": [
    "selected_words = ['awesome', 'great', 'fantastic', 'amazing', 'love', 'horrible', 'bad', 'terrible', 'awful', 'wow', 'hate']"
   ]
  },
  {
   "cell_type": "code",
   "execution_count": 55,
   "metadata": {},
   "outputs": [],
   "source": [
    "products = products.to_dataframe()"
   ]
  },
  {
   "cell_type": "code",
   "execution_count": 109,
   "metadata": {},
   "outputs": [
    {
     "data": {
      "text/html": [
       "<div>\n",
       "<style scoped>\n",
       "    .dataframe tbody tr th:only-of-type {\n",
       "        vertical-align: middle;\n",
       "    }\n",
       "\n",
       "    .dataframe tbody tr th {\n",
       "        vertical-align: top;\n",
       "    }\n",
       "\n",
       "    .dataframe thead th {\n",
       "        text-align: right;\n",
       "    }\n",
       "</style>\n",
       "<table border=\"1\" class=\"dataframe\">\n",
       "  <thead>\n",
       "    <tr style=\"text-align: right;\">\n",
       "      <th></th>\n",
       "      <th>name</th>\n",
       "      <th>review</th>\n",
       "      <th>rating</th>\n",
       "      <th>review_clean</th>\n",
       "      <th>awesome</th>\n",
       "      <th>great</th>\n",
       "      <th>fantastic</th>\n",
       "      <th>amazing</th>\n",
       "      <th>love</th>\n",
       "      <th>horrible</th>\n",
       "      <th>bad</th>\n",
       "      <th>terrible</th>\n",
       "      <th>awful</th>\n",
       "      <th>wow</th>\n",
       "      <th>hate</th>\n",
       "      <th>sentiment</th>\n",
       "    </tr>\n",
       "  </thead>\n",
       "  <tbody>\n",
       "    <tr>\n",
       "      <th>1</th>\n",
       "      <td>Planetwise Wipe Pouch</td>\n",
       "      <td>it came early and was not disappointed. i love...</td>\n",
       "      <td>5.0</td>\n",
       "      <td>it came early and was not disappointed. i love...</td>\n",
       "      <td>0</td>\n",
       "      <td>0</td>\n",
       "      <td>0</td>\n",
       "      <td>0</td>\n",
       "      <td>1</td>\n",
       "      <td>0</td>\n",
       "      <td>0</td>\n",
       "      <td>0</td>\n",
       "      <td>0</td>\n",
       "      <td>0</td>\n",
       "      <td>0</td>\n",
       "      <td>1</td>\n",
       "    </tr>\n",
       "    <tr>\n",
       "      <th>2</th>\n",
       "      <td>Annas Dream Full Quilt with 2 Shams</td>\n",
       "      <td>Very soft and comfortable and warmer than it l...</td>\n",
       "      <td>5.0</td>\n",
       "      <td>Very soft and comfortable and warmer than it l...</td>\n",
       "      <td>0</td>\n",
       "      <td>0</td>\n",
       "      <td>0</td>\n",
       "      <td>0</td>\n",
       "      <td>0</td>\n",
       "      <td>0</td>\n",
       "      <td>0</td>\n",
       "      <td>0</td>\n",
       "      <td>0</td>\n",
       "      <td>0</td>\n",
       "      <td>0</td>\n",
       "      <td>1</td>\n",
       "    </tr>\n",
       "    <tr>\n",
       "      <th>3</th>\n",
       "      <td>Stop Pacifier Sucking without tears with Thumb...</td>\n",
       "      <td>This is a product well worth the purchase.  I ...</td>\n",
       "      <td>5.0</td>\n",
       "      <td>This is a product well worth the purchase.  I ...</td>\n",
       "      <td>0</td>\n",
       "      <td>0</td>\n",
       "      <td>0</td>\n",
       "      <td>0</td>\n",
       "      <td>2</td>\n",
       "      <td>0</td>\n",
       "      <td>0</td>\n",
       "      <td>0</td>\n",
       "      <td>0</td>\n",
       "      <td>0</td>\n",
       "      <td>0</td>\n",
       "      <td>1</td>\n",
       "    </tr>\n",
       "    <tr>\n",
       "      <th>4</th>\n",
       "      <td>Stop Pacifier Sucking without tears with Thumb...</td>\n",
       "      <td>All of my kids have cried non-stop when I trie...</td>\n",
       "      <td>5.0</td>\n",
       "      <td>All of my kids have cried non-stop when I trie...</td>\n",
       "      <td>0</td>\n",
       "      <td>1</td>\n",
       "      <td>0</td>\n",
       "      <td>0</td>\n",
       "      <td>0</td>\n",
       "      <td>0</td>\n",
       "      <td>0</td>\n",
       "      <td>0</td>\n",
       "      <td>0</td>\n",
       "      <td>0</td>\n",
       "      <td>0</td>\n",
       "      <td>1</td>\n",
       "    </tr>\n",
       "    <tr>\n",
       "      <th>5</th>\n",
       "      <td>Stop Pacifier Sucking without tears with Thumb...</td>\n",
       "      <td>When the Binky Fairy came to our house, we did...</td>\n",
       "      <td>5.0</td>\n",
       "      <td>When the Binky Fairy came to our house, we did...</td>\n",
       "      <td>0</td>\n",
       "      <td>1</td>\n",
       "      <td>0</td>\n",
       "      <td>0</td>\n",
       "      <td>0</td>\n",
       "      <td>0</td>\n",
       "      <td>0</td>\n",
       "      <td>0</td>\n",
       "      <td>0</td>\n",
       "      <td>0</td>\n",
       "      <td>0</td>\n",
       "      <td>1</td>\n",
       "    </tr>\n",
       "  </tbody>\n",
       "</table>\n",
       "</div>"
      ],
      "text/plain": [
       "                                                name  \\\n",
       "1                              Planetwise Wipe Pouch   \n",
       "2                Annas Dream Full Quilt with 2 Shams   \n",
       "3  Stop Pacifier Sucking without tears with Thumb...   \n",
       "4  Stop Pacifier Sucking without tears with Thumb...   \n",
       "5  Stop Pacifier Sucking without tears with Thumb...   \n",
       "\n",
       "                                              review  rating  \\\n",
       "1  it came early and was not disappointed. i love...     5.0   \n",
       "2  Very soft and comfortable and warmer than it l...     5.0   \n",
       "3  This is a product well worth the purchase.  I ...     5.0   \n",
       "4  All of my kids have cried non-stop when I trie...     5.0   \n",
       "5  When the Binky Fairy came to our house, we did...     5.0   \n",
       "\n",
       "                                        review_clean  awesome  great  \\\n",
       "1  it came early and was not disappointed. i love...        0      0   \n",
       "2  Very soft and comfortable and warmer than it l...        0      0   \n",
       "3  This is a product well worth the purchase.  I ...        0      0   \n",
       "4  All of my kids have cried non-stop when I trie...        0      1   \n",
       "5  When the Binky Fairy came to our house, we did...        0      1   \n",
       "\n",
       "   fantastic  amazing  love  horrible  bad  terrible  awful  wow  hate  \\\n",
       "1          0        0     1         0    0         0      0    0     0   \n",
       "2          0        0     0         0    0         0      0    0     0   \n",
       "3          0        0     2         0    0         0      0    0     0   \n",
       "4          0        0     0         0    0         0      0    0     0   \n",
       "5          0        0     0         0    0         0      0    0     0   \n",
       "\n",
       "   sentiment  \n",
       "1          1  \n",
       "2          1  \n",
       "3          1  \n",
       "4          1  \n",
       "5          1  "
      ]
     },
     "execution_count": 109,
     "metadata": {},
     "output_type": "execute_result"
    }
   ],
   "source": [
    "products.head()"
   ]
  },
  {
   "cell_type": "code",
   "execution_count": 111,
   "metadata": {},
   "outputs": [],
   "source": [
    "def remove_punctuation(text):\n",
    "    import string\n",
    "    translator = str.maketrans('', '', string.punctuation)\n",
    "    return text.translate(translator) "
   ]
  },
  {
   "cell_type": "code",
   "execution_count": 112,
   "metadata": {},
   "outputs": [],
   "source": [
    "products['review_clean'] = products['review'].astype(str).apply(remove_punctuation) #astype(str) makes sure all reviews are strings"
   ]
  },
  {
   "cell_type": "code",
   "execution_count": 113,
   "metadata": {},
   "outputs": [
    {
     "data": {
      "text/plain": [
       "1         it came early and was not disappointed i love ...\n",
       "2         Very soft and comfortable and warmer than it l...\n",
       "3         This is a product well worth the purchase  I h...\n",
       "4         All of my kids have cried nonstop when I tried...\n",
       "5         When the Binky Fairy came to our house we didn...\n",
       "                                ...                        \n",
       "183526    Such a great idea very handy to have and look ...\n",
       "183527    This product rocks  It is a great blend of fun...\n",
       "183528    This item looks great and cool for my kidsI kn...\n",
       "183529    I am extremely happy with this product I have ...\n",
       "183530    I love this product very mush  I have bought m...\n",
       "Name: review_clean, Length: 166752, dtype: object"
      ]
     },
     "execution_count": 113,
     "metadata": {},
     "output_type": "execute_result"
    }
   ],
   "source": [
    "products['review_clean']"
   ]
  },
  {
   "cell_type": "code",
   "execution_count": 114,
   "metadata": {},
   "outputs": [],
   "source": [
    "for word in selected_words:\n",
    "    products[word] = products['review_clean'].apply(lambda s : s.split().count(word))"
   ]
  },
  {
   "cell_type": "code",
   "execution_count": 115,
   "metadata": {},
   "outputs": [
    {
     "data": {
      "text/html": [
       "<div>\n",
       "<style scoped>\n",
       "    .dataframe tbody tr th:only-of-type {\n",
       "        vertical-align: middle;\n",
       "    }\n",
       "\n",
       "    .dataframe tbody tr th {\n",
       "        vertical-align: top;\n",
       "    }\n",
       "\n",
       "    .dataframe thead th {\n",
       "        text-align: right;\n",
       "    }\n",
       "</style>\n",
       "<table border=\"1\" class=\"dataframe\">\n",
       "  <thead>\n",
       "    <tr style=\"text-align: right;\">\n",
       "      <th></th>\n",
       "      <th>awesome</th>\n",
       "      <th>great</th>\n",
       "      <th>fantastic</th>\n",
       "      <th>amazing</th>\n",
       "      <th>love</th>\n",
       "      <th>horrible</th>\n",
       "      <th>bad</th>\n",
       "      <th>terrible</th>\n",
       "      <th>awful</th>\n",
       "      <th>wow</th>\n",
       "      <th>hate</th>\n",
       "    </tr>\n",
       "  </thead>\n",
       "  <tbody>\n",
       "    <tr>\n",
       "      <th>1</th>\n",
       "      <td>0</td>\n",
       "      <td>0</td>\n",
       "      <td>0</td>\n",
       "      <td>0</td>\n",
       "      <td>1</td>\n",
       "      <td>0</td>\n",
       "      <td>0</td>\n",
       "      <td>0</td>\n",
       "      <td>0</td>\n",
       "      <td>0</td>\n",
       "      <td>0</td>\n",
       "    </tr>\n",
       "    <tr>\n",
       "      <th>2</th>\n",
       "      <td>0</td>\n",
       "      <td>0</td>\n",
       "      <td>0</td>\n",
       "      <td>0</td>\n",
       "      <td>0</td>\n",
       "      <td>0</td>\n",
       "      <td>0</td>\n",
       "      <td>0</td>\n",
       "      <td>0</td>\n",
       "      <td>0</td>\n",
       "      <td>0</td>\n",
       "    </tr>\n",
       "    <tr>\n",
       "      <th>3</th>\n",
       "      <td>0</td>\n",
       "      <td>0</td>\n",
       "      <td>0</td>\n",
       "      <td>0</td>\n",
       "      <td>2</td>\n",
       "      <td>0</td>\n",
       "      <td>0</td>\n",
       "      <td>0</td>\n",
       "      <td>0</td>\n",
       "      <td>0</td>\n",
       "      <td>0</td>\n",
       "    </tr>\n",
       "    <tr>\n",
       "      <th>4</th>\n",
       "      <td>0</td>\n",
       "      <td>1</td>\n",
       "      <td>0</td>\n",
       "      <td>0</td>\n",
       "      <td>0</td>\n",
       "      <td>0</td>\n",
       "      <td>0</td>\n",
       "      <td>0</td>\n",
       "      <td>0</td>\n",
       "      <td>0</td>\n",
       "      <td>0</td>\n",
       "    </tr>\n",
       "    <tr>\n",
       "      <th>5</th>\n",
       "      <td>0</td>\n",
       "      <td>1</td>\n",
       "      <td>0</td>\n",
       "      <td>0</td>\n",
       "      <td>0</td>\n",
       "      <td>0</td>\n",
       "      <td>0</td>\n",
       "      <td>0</td>\n",
       "      <td>0</td>\n",
       "      <td>0</td>\n",
       "      <td>0</td>\n",
       "    </tr>\n",
       "    <tr>\n",
       "      <th>...</th>\n",
       "      <td>...</td>\n",
       "      <td>...</td>\n",
       "      <td>...</td>\n",
       "      <td>...</td>\n",
       "      <td>...</td>\n",
       "      <td>...</td>\n",
       "      <td>...</td>\n",
       "      <td>...</td>\n",
       "      <td>...</td>\n",
       "      <td>...</td>\n",
       "      <td>...</td>\n",
       "    </tr>\n",
       "    <tr>\n",
       "      <th>183526</th>\n",
       "      <td>0</td>\n",
       "      <td>2</td>\n",
       "      <td>0</td>\n",
       "      <td>0</td>\n",
       "      <td>0</td>\n",
       "      <td>0</td>\n",
       "      <td>0</td>\n",
       "      <td>0</td>\n",
       "      <td>0</td>\n",
       "      <td>0</td>\n",
       "      <td>0</td>\n",
       "    </tr>\n",
       "    <tr>\n",
       "      <th>183527</th>\n",
       "      <td>0</td>\n",
       "      <td>1</td>\n",
       "      <td>0</td>\n",
       "      <td>0</td>\n",
       "      <td>0</td>\n",
       "      <td>0</td>\n",
       "      <td>0</td>\n",
       "      <td>0</td>\n",
       "      <td>0</td>\n",
       "      <td>0</td>\n",
       "      <td>0</td>\n",
       "    </tr>\n",
       "    <tr>\n",
       "      <th>183528</th>\n",
       "      <td>0</td>\n",
       "      <td>2</td>\n",
       "      <td>0</td>\n",
       "      <td>0</td>\n",
       "      <td>0</td>\n",
       "      <td>0</td>\n",
       "      <td>0</td>\n",
       "      <td>0</td>\n",
       "      <td>0</td>\n",
       "      <td>0</td>\n",
       "      <td>0</td>\n",
       "    </tr>\n",
       "    <tr>\n",
       "      <th>183529</th>\n",
       "      <td>0</td>\n",
       "      <td>0</td>\n",
       "      <td>0</td>\n",
       "      <td>0</td>\n",
       "      <td>0</td>\n",
       "      <td>0</td>\n",
       "      <td>0</td>\n",
       "      <td>0</td>\n",
       "      <td>0</td>\n",
       "      <td>0</td>\n",
       "      <td>0</td>\n",
       "    </tr>\n",
       "    <tr>\n",
       "      <th>183530</th>\n",
       "      <td>0</td>\n",
       "      <td>0</td>\n",
       "      <td>0</td>\n",
       "      <td>0</td>\n",
       "      <td>1</td>\n",
       "      <td>0</td>\n",
       "      <td>0</td>\n",
       "      <td>0</td>\n",
       "      <td>0</td>\n",
       "      <td>0</td>\n",
       "      <td>0</td>\n",
       "    </tr>\n",
       "  </tbody>\n",
       "</table>\n",
       "<p>166752 rows × 11 columns</p>\n",
       "</div>"
      ],
      "text/plain": [
       "        awesome  great  fantastic  amazing  love  horrible  bad  terrible  \\\n",
       "1             0      0          0        0     1         0    0         0   \n",
       "2             0      0          0        0     0         0    0         0   \n",
       "3             0      0          0        0     2         0    0         0   \n",
       "4             0      1          0        0     0         0    0         0   \n",
       "5             0      1          0        0     0         0    0         0   \n",
       "...         ...    ...        ...      ...   ...       ...  ...       ...   \n",
       "183526        0      2          0        0     0         0    0         0   \n",
       "183527        0      1          0        0     0         0    0         0   \n",
       "183528        0      2          0        0     0         0    0         0   \n",
       "183529        0      0          0        0     0         0    0         0   \n",
       "183530        0      0          0        0     1         0    0         0   \n",
       "\n",
       "        awful  wow  hate  \n",
       "1           0    0     0  \n",
       "2           0    0     0  \n",
       "3           0    0     0  \n",
       "4           0    0     0  \n",
       "5           0    0     0  \n",
       "...       ...  ...   ...  \n",
       "183526      0    0     0  \n",
       "183527      0    0     0  \n",
       "183528      0    0     0  \n",
       "183529      0    0     0  \n",
       "183530      0    0     0  \n",
       "\n",
       "[166752 rows x 11 columns]"
      ]
     },
     "execution_count": 115,
     "metadata": {},
     "output_type": "execute_result"
    }
   ],
   "source": [
    "products[selected_words]"
   ]
  },
  {
   "cell_type": "markdown",
   "metadata": {},
   "source": [
    "Using the .sum() method on each of the new columns you created, answer the following questions:  Out of the selected_words, which one is most used in the dataset?  Which one is least used? Save these results to answer the quiz at the end."
   ]
  },
  {
   "cell_type": "code",
   "execution_count": 116,
   "metadata": {},
   "outputs": [
    {
     "name": "stdout",
     "output_type": "stream",
     "text": [
      "awesome 3078\n",
      "great 46018\n",
      "fantastic 1418\n",
      "amazing 2148\n",
      "love 32999\n",
      "horrible 940\n",
      "bad 3911\n",
      "terrible 970\n",
      "awful 565\n",
      "wow 97\n",
      "hate 970\n"
     ]
    }
   ],
   "source": [
    "# Most = great\n",
    "# Least = wow \n",
    "for w in selected_words:\n",
    "    print(w, products[w].sum())"
   ]
  },
  {
   "cell_type": "markdown",
   "metadata": {},
   "source": [
    "## Create a new sentiment analysis model using only the selected_words as features\n",
    "In the Jupyter Notebook above, we used word counts for all words as features for our sentiment classifier.  Now, you are just going to use the selected_words:"
   ]
  },
  {
   "cell_type": "code",
   "execution_count": 117,
   "metadata": {},
   "outputs": [],
   "source": [
    "#ignore all 3* reviews\n",
    "products = products[products['rating'] != 3]"
   ]
  },
  {
   "cell_type": "code",
   "execution_count": 118,
   "metadata": {},
   "outputs": [],
   "source": [
    "#positive sentiment = 4* or 5* reviews\n",
    "products['sentiment'] = products['rating'].apply(lambda rating : +1 if rating > 3 else -1)"
   ]
  },
  {
   "cell_type": "code",
   "execution_count": 119,
   "metadata": {},
   "outputs": [
    {
     "data": {
      "text/plain": [
       "113766"
      ]
     },
     "execution_count": 119,
     "metadata": {},
     "output_type": "execute_result"
    }
   ],
   "source": [
    "products['sentiment'].sum()"
   ]
  },
  {
   "cell_type": "markdown",
   "metadata": {},
   "source": [
    "### Train Sentiment Classifier"
   ]
  },
  {
   "cell_type": "code",
   "execution_count": 120,
   "metadata": {},
   "outputs": [],
   "source": [
    "import numpy as np\n",
    "from sklearn.model_selection import train_test_split\n",
    "\n",
    "#Split Data\n",
    "train_data , test_data = train_test_split(products, test_size=0.2)"
   ]
  },
  {
   "cell_type": "code",
   "execution_count": 121,
   "metadata": {},
   "outputs": [],
   "source": [
    "from sklearn.linear_model import LogisticRegression"
   ]
  },
  {
   "cell_type": "code",
   "execution_count": 122,
   "metadata": {},
   "outputs": [],
   "source": [
    "logisticRegr_mdl = LogisticRegression()"
   ]
  },
  {
   "cell_type": "code",
   "execution_count": 123,
   "metadata": {},
   "outputs": [],
   "source": [
    "selected_words_model = logisticRegr_mdl.fit(train_data[selected_words], train_data['sentiment'])"
   ]
  },
  {
   "cell_type": "code",
   "execution_count": 124,
   "metadata": {},
   "outputs": [
    {
     "data": {
      "text/plain": [
       "array([[ 1.08562011,  0.75935287,  0.77985457,  0.92946395,  1.30971533,\n",
       "        -2.17753433, -0.94453235, -2.03114099, -1.94442613, -0.56208869,\n",
       "        -1.33141153]])"
      ]
     },
     "execution_count": 124,
     "metadata": {},
     "output_type": "execute_result"
    }
   ],
   "source": [
    "selected_words_model.coef_"
   ]
  },
  {
   "cell_type": "code",
   "execution_count": 125,
   "metadata": {},
   "outputs": [],
   "source": [
    "weight = selected_words_model.coef_"
   ]
  },
  {
   "cell_type": "code",
   "execution_count": 94,
   "metadata": {},
   "outputs": [],
   "source": [
    "flat_list = [item for sublist in weight.reshape(-1,1).tolist() for item in sublist]"
   ]
  },
  {
   "cell_type": "code",
   "execution_count": 126,
   "metadata": {},
   "outputs": [
    {
     "name": "stdout",
     "output_type": "stream",
     "text": [
      "['awesome', 'great', 'fantastic', 'amazing', 'love', 'horrible', 'bad', 'terrible', 'awful', 'wow', 'hate']\n"
     ]
    },
    {
     "data": {
      "text/plain": [
       "[0.880178973826363,\n",
       " 0.7567906011915277,\n",
       " 0.7027407398959553,\n",
       " 0.9677355989010565,\n",
       " 1.361358635122838,\n",
       " -1.9147221373633176,\n",
       " -0.938747037543111,\n",
       " -1.9034994280341926,\n",
       " -1.5068577812275281,\n",
       " -0.32869041567227136,\n",
       " -1.4065833182043057]"
      ]
     },
     "execution_count": 126,
     "metadata": {},
     "output_type": "execute_result"
    }
   ],
   "source": [
    "print(selected_words)\n",
    "flat_list"
   ]
  },
  {
   "cell_type": "code",
   "execution_count": 127,
   "metadata": {},
   "outputs": [
    {
     "data": {
      "text/html": [
       "<div>\n",
       "<style scoped>\n",
       "    .dataframe tbody tr th:only-of-type {\n",
       "        vertical-align: middle;\n",
       "    }\n",
       "\n",
       "    .dataframe tbody tr th {\n",
       "        vertical-align: top;\n",
       "    }\n",
       "\n",
       "    .dataframe thead th {\n",
       "        text-align: right;\n",
       "    }\n",
       "</style>\n",
       "<table border=\"1\" class=\"dataframe\">\n",
       "  <thead>\n",
       "    <tr style=\"text-align: right;\">\n",
       "      <th></th>\n",
       "      <th>feature</th>\n",
       "      <th>weight</th>\n",
       "    </tr>\n",
       "  </thead>\n",
       "  <tbody>\n",
       "    <tr>\n",
       "      <th>0</th>\n",
       "      <td>awesome</td>\n",
       "      <td>0.880179</td>\n",
       "    </tr>\n",
       "    <tr>\n",
       "      <th>1</th>\n",
       "      <td>great</td>\n",
       "      <td>0.756791</td>\n",
       "    </tr>\n",
       "    <tr>\n",
       "      <th>2</th>\n",
       "      <td>fantastic</td>\n",
       "      <td>0.702741</td>\n",
       "    </tr>\n",
       "    <tr>\n",
       "      <th>3</th>\n",
       "      <td>amazing</td>\n",
       "      <td>0.967736</td>\n",
       "    </tr>\n",
       "    <tr>\n",
       "      <th>4</th>\n",
       "      <td>love</td>\n",
       "      <td>1.361359</td>\n",
       "    </tr>\n",
       "    <tr>\n",
       "      <th>5</th>\n",
       "      <td>horrible</td>\n",
       "      <td>-1.914722</td>\n",
       "    </tr>\n",
       "    <tr>\n",
       "      <th>6</th>\n",
       "      <td>bad</td>\n",
       "      <td>-0.938747</td>\n",
       "    </tr>\n",
       "    <tr>\n",
       "      <th>7</th>\n",
       "      <td>terrible</td>\n",
       "      <td>-1.903499</td>\n",
       "    </tr>\n",
       "    <tr>\n",
       "      <th>8</th>\n",
       "      <td>awful</td>\n",
       "      <td>-1.506858</td>\n",
       "    </tr>\n",
       "    <tr>\n",
       "      <th>9</th>\n",
       "      <td>wow</td>\n",
       "      <td>-0.328690</td>\n",
       "    </tr>\n",
       "    <tr>\n",
       "      <th>10</th>\n",
       "      <td>hate</td>\n",
       "      <td>-1.406583</td>\n",
       "    </tr>\n",
       "  </tbody>\n",
       "</table>\n",
       "</div>"
      ],
      "text/plain": [
       "      feature    weight\n",
       "0     awesome  0.880179\n",
       "1       great  0.756791\n",
       "2   fantastic  0.702741\n",
       "3     amazing  0.967736\n",
       "4        love  1.361359\n",
       "5    horrible -1.914722\n",
       "6         bad -0.938747\n",
       "7    terrible -1.903499\n",
       "8       awful -1.506858\n",
       "9         wow -0.328690\n",
       "10       hate -1.406583"
      ]
     },
     "execution_count": 127,
     "metadata": {},
     "output_type": "execute_result"
    }
   ],
   "source": [
    "feature_weight = pd.DataFrame(\n",
    "    {'feature': selected_words,\n",
    "     'weight': flat_list\n",
    "    })\n",
    "feature_weight"
   ]
  },
  {
   "cell_type": "markdown",
   "metadata": {},
   "source": [
    "What is the accuracy of the selected_words_model on the test_data?  What was the accuracy of the sentiment_model that we learned using all the word counts in the Jupyter Notebook above from the lectures?  What is the accuracy majority class classifier on this task?  How do you compare the different learned models with the baseline approach where we are just predicting the majority class?    Save these results to answer the quiz at the end."
   ]
  },
  {
   "cell_type": "code",
   "execution_count": 128,
   "metadata": {},
   "outputs": [
    {
     "name": "stdout",
     "output_type": "stream",
     "text": [
      "answer: the accuracy of selected words model is 0.8468711582861084\n"
     ]
    }
   ],
   "source": [
    "from sklearn.metrics import accuracy_score\n",
    "\n",
    "y_pred_selected_words = selected_words_model.predict(test_data[selected_words])\n",
    "y_true_selected_words = test_data['sentiment']\n",
    "print('answer: the accuracy of selected words model is',accuracy_score(y_true_selected_words, y_pred_selected_words))"
   ]
  },
  {
   "cell_type": "markdown",
   "metadata": {},
   "source": [
    "We will now compute the word count for each word that appears in the reviews. A vector consisting of word counts is often referred to as bag-of-word features. Since most words occur in only a few reviews, word count vectors are sparse. For this reason, scikit-learn and many other tools use sparse matrices to store a collection of word count vectors. Refer to appropriate manuals to produce sparse word count vectors. General steps for extracting word count vectors are as follows:"
   ]
  },
  {
   "cell_type": "code",
   "execution_count": 129,
   "metadata": {},
   "outputs": [],
   "source": [
    "from sklearn.feature_extraction.text import CountVectorizer\n",
    "\n",
    "#single letter words\n",
    "vectorizer = CountVectorizer(token_pattern=r'\\b\\w+\\b') \n",
    "#learn vocabulary from the training data and assign columns to words, convert to sparse matrix\n",
    "train_matrix = vectorizer.fit_transform(train_data['review_clean'])\n",
    "\n",
    "#convert the test data into a sparse matrix, using the same word-column mapping\n",
    "test_matrix = vectorizer.transform(test_data['review_clean'])"
   ]
  },
  {
   "cell_type": "code",
   "execution_count": 156,
   "metadata": {},
   "outputs": [
    {
     "name": "stdout",
     "output_type": "stream",
     "text": [
      "(133401, 121942)\n"
     ]
    }
   ],
   "source": [
    "print(train_matrix.shape)"
   ]
  },
  {
   "cell_type": "code",
   "execution_count": 136,
   "metadata": {},
   "outputs": [],
   "source": [
    "sentiment_model = LogisticRegression(max_iter=50000).fit(train_matrix, train_data['sentiment'])"
   ]
  },
  {
   "cell_type": "code",
   "execution_count": 143,
   "metadata": {},
   "outputs": [
    {
     "name": "stdout",
     "output_type": "stream",
     "text": [
      "answer: the accuracy of sentiment model is 0.9322958831819136\n"
     ]
    }
   ],
   "source": [
    "y_pred_sentiment_model = sentiment_model.predict(test_matrix)\n",
    "y_true_sentiment_model = test_data['sentiment']\n",
    "print('answer: the accuracy of sentiment model is',accuracy_score(y_pred_sentiment_model, y_true_sentiment_model))"
   ]
  },
  {
   "cell_type": "code",
   "execution_count": 147,
   "metadata": {},
   "outputs": [
    {
     "name": "stdout",
     "output_type": "stream",
     "text": [
      "112170\n",
      "21231\n"
     ]
    }
   ],
   "source": [
    "# the majority of train data\n",
    "num_positive_train  = (train_data['sentiment'] == +1).sum()\n",
    "num_negative_train = (train_data['sentiment'] == -1).sum()\n",
    "print (num_positive_train)\n",
    "print (num_negative_train)"
   ]
  },
  {
   "cell_type": "code",
   "execution_count": 153,
   "metadata": {},
   "outputs": [],
   "source": [
    "num_positive_test  = (test_data['sentiment'] == +1).sum()\n",
    "num_negative_test = (test_data['sentiment'] == -1).sum()"
   ]
  },
  {
   "cell_type": "code",
   "execution_count": 154,
   "metadata": {},
   "outputs": [
    {
     "data": {
      "text/plain": [
       "0.8422236214806152"
      ]
     },
     "execution_count": 154,
     "metadata": {},
     "output_type": "execute_result"
    }
   ],
   "source": [
    "accuracy_majority_class_classifier = num_positive_test/(num_negative_test+num_positive_test)\n",
    "accuracy_majority_class_classifier"
   ]
  },
  {
   "cell_type": "markdown",
   "metadata": {},
   "source": [
    "## Diaper Champ Reviews\n",
    "Just like we did for the reviews for the giraffe toy in the Jupyter Notebook in the lecture video, before we start our analysis you should select all reviews where the product name is ‘Baby Trend Diaper Champ’.  Let’s call this table diaper_champ_reviews."
   ]
  },
  {
   "cell_type": "code",
   "execution_count": 158,
   "metadata": {},
   "outputs": [
    {
     "data": {
      "text/plain": [
       "527    I bought this trying to save a few dollars and...\n",
       "436    I love this diaper pail Yea if you let poopy d...\n",
       "321    I am so glad I got the Diaper Champ instead of...\n",
       "418    This has been a fantastic diaper pail for us  ...\n",
       "522    The Diaper Champ is TERRIBLE at keeping the sm...\n",
       "434    This is an excellent idea having the lid to di...\n",
       "338    We originally had the diaper genie which we fo...\n",
       "330    Although I had a Diaper Genie from my first ch...\n",
       "615    I bought the Diaper Champ because it was recom...\n",
       "454    After Our Diaper Genie broke after 2 years I w...\n",
       "576    I just wanted to say that I love my Diaper Cha...\n",
       "627    I have been using the Diaper Champ for the pas...\n",
       "468    My husband and I originally registered for the...\n",
       "435    It is so easy to use You never have to change ...\n",
       "448    GOOD POINTSEasy to operate and changeLess expe...\n",
       "534    Wow  This is fabulous  It was a tossup between...\n",
       "369    We wanted to have a convenient locking recepta...\n",
       "475    We have ours in our living room and you cant s...\n",
       "509    My husband and I wanted this style vs the Diap...\n",
       "625    We are using the Diaper Champ with our first b...\n",
       "520    My son and daughterinlaw requested this item a...\n",
       "370    I wasnt interested in getting the Diaper Genie...\n",
       "459    Love it love it love it  This lives up to the ...\n",
       "497    I have a twoyearold son and I love the Diaper ...\n",
       "578    I have to agree with the other moms At first t...\n",
       "564    This product has been great  Its easy to use h...\n",
       "424    If you dont want the baby room to smell bad an...\n",
       "525    I laughed when my husband wanted this product ...\n",
       "584    We have been using a d champ for nearly four y...\n",
       "383    I started off with the Genie but quickly reali...\n",
       "460    I have been very happy with this pail  The gre...\n",
       "381    My baby is 1 month old now and we have been us...\n",
       "421    I find this product easy to operate  With any ...\n",
       "588    This thing doesnt work very well It still smel...\n",
       "332    We loved this pail at first The mechanism seem...\n",
       "626    The Diaper Champ not only holds bombs it is th...\n",
       "407    love it because it uses the bags from the groc...\n",
       "410    I have no problems with my Diaper Champ  Its g...\n",
       "356    This product meets all my expectations The dia...\n",
       "513    I have never written a review for Amazon but I...\n",
       "560    I have owned a Diaper Dekor and now a Diaper C...\n",
       "420    Baby Luke can turn a clean diaper to a dirty d...\n",
       "346    I love the convenience of not having to buy sp...\n",
       "547    I received the Diaper Champ at my baby shower ...\n",
       "559    Ive worked with kids more than half my life Fi...\n",
       "315    Excellent diaper disposal unit  I used it in c...\n",
       "438    This is a great diaper disposal system but fro...\n",
       "579    I wanted a diaper pail that didnt stink Id hea...\n",
       "Name: review_clean, dtype: object"
      ]
     },
     "execution_count": 158,
     "metadata": {},
     "output_type": "execute_result"
    }
   ],
   "source": [
    "diaper_champ_reviews = test_data[test_data['name']=='Baby Trend Diaper Champ']\n",
    "diaper_champ_reviews['review_clean']"
   ]
  },
  {
   "cell_type": "markdown",
   "metadata": {},
   "source": [
    "Again, just as in the video, use the sentiment_model to predict the sentiment of each review in diaper_champ_reviews and sort the results according to their ‘predicted_sentiment’."
   ]
  },
  {
   "cell_type": "code",
   "execution_count": 174,
   "metadata": {},
   "outputs": [],
   "source": [
    "test_matrix_diaper_champ = vectorizer.transform(diaper_champ_reviews['review_clean'])"
   ]
  },
  {
   "cell_type": "code",
   "execution_count": 181,
   "metadata": {},
   "outputs": [],
   "source": [
    "diaper_sentiment_model_pred_proba = sentiment_model.predict_proba(test_matrix_diaper_champ)\n",
    "diaper_sentiment_model_pred = sentiment_model.predict(test_matrix_diaper_champ)"
   ]
  },
  {
   "cell_type": "code",
   "execution_count": 182,
   "metadata": {},
   "outputs": [],
   "source": [
    "diaper_review_sentiment_pred_proba = pd.DataFrame(\n",
    "    {'review_clean': diaper_champ_reviews['review_clean'],\n",
    "     'predicted_sentiment_prob': diaper_sentiment_model_pred_proba[:,1].tolist(),\n",
    "     'predicted_sentiment': diaper_sentiment_model_pred.tolist()\n",
    "    })"
   ]
  },
  {
   "cell_type": "code",
   "execution_count": 183,
   "metadata": {},
   "outputs": [
    {
     "data": {
      "text/html": [
       "<div>\n",
       "<style scoped>\n",
       "    .dataframe tbody tr th:only-of-type {\n",
       "        vertical-align: middle;\n",
       "    }\n",
       "\n",
       "    .dataframe tbody tr th {\n",
       "        vertical-align: top;\n",
       "    }\n",
       "\n",
       "    .dataframe thead th {\n",
       "        text-align: right;\n",
       "    }\n",
       "</style>\n",
       "<table border=\"1\" class=\"dataframe\">\n",
       "  <thead>\n",
       "    <tr style=\"text-align: right;\">\n",
       "      <th></th>\n",
       "      <th>review_clean</th>\n",
       "      <th>predicted_sentiment_prob</th>\n",
       "      <th>predicted_sentiment</th>\n",
       "    </tr>\n",
       "  </thead>\n",
       "  <tbody>\n",
       "    <tr>\n",
       "      <th>513</th>\n",
       "      <td>I have never written a review for Amazon but I...</td>\n",
       "      <td>1.000000</td>\n",
       "      <td>1</td>\n",
       "    </tr>\n",
       "    <tr>\n",
       "      <th>559</th>\n",
       "      <td>Ive worked with kids more than half my life Fi...</td>\n",
       "      <td>0.999999</td>\n",
       "      <td>1</td>\n",
       "    </tr>\n",
       "    <tr>\n",
       "      <th>420</th>\n",
       "      <td>Baby Luke can turn a clean diaper to a dirty d...</td>\n",
       "      <td>0.999997</td>\n",
       "      <td>1</td>\n",
       "    </tr>\n",
       "    <tr>\n",
       "      <th>330</th>\n",
       "      <td>Although I had a Diaper Genie from my first ch...</td>\n",
       "      <td>0.999993</td>\n",
       "      <td>1</td>\n",
       "    </tr>\n",
       "    <tr>\n",
       "      <th>547</th>\n",
       "      <td>I received the Diaper Champ at my baby shower ...</td>\n",
       "      <td>0.999992</td>\n",
       "      <td>1</td>\n",
       "    </tr>\n",
       "    <tr>\n",
       "      <th>509</th>\n",
       "      <td>My husband and I wanted this style vs the Diap...</td>\n",
       "      <td>0.999986</td>\n",
       "      <td>1</td>\n",
       "    </tr>\n",
       "    <tr>\n",
       "      <th>625</th>\n",
       "      <td>We are using the Diaper Champ with our first b...</td>\n",
       "      <td>0.999913</td>\n",
       "      <td>1</td>\n",
       "    </tr>\n",
       "    <tr>\n",
       "      <th>418</th>\n",
       "      <td>This has been a fantastic diaper pail for us  ...</td>\n",
       "      <td>0.999780</td>\n",
       "      <td>1</td>\n",
       "    </tr>\n",
       "    <tr>\n",
       "      <th>315</th>\n",
       "      <td>Excellent diaper disposal unit  I used it in c...</td>\n",
       "      <td>0.999738</td>\n",
       "      <td>1</td>\n",
       "    </tr>\n",
       "    <tr>\n",
       "      <th>584</th>\n",
       "      <td>We have been using a d champ for nearly four y...</td>\n",
       "      <td>0.999322</td>\n",
       "      <td>1</td>\n",
       "    </tr>\n",
       "    <tr>\n",
       "      <th>468</th>\n",
       "      <td>My husband and I originally registered for the...</td>\n",
       "      <td>0.997750</td>\n",
       "      <td>1</td>\n",
       "    </tr>\n",
       "    <tr>\n",
       "      <th>534</th>\n",
       "      <td>Wow  This is fabulous  It was a tossup between...</td>\n",
       "      <td>0.997650</td>\n",
       "      <td>1</td>\n",
       "    </tr>\n",
       "    <tr>\n",
       "      <th>421</th>\n",
       "      <td>I find this product easy to operate  With any ...</td>\n",
       "      <td>0.996890</td>\n",
       "      <td>1</td>\n",
       "    </tr>\n",
       "    <tr>\n",
       "      <th>356</th>\n",
       "      <td>This product meets all my expectations The dia...</td>\n",
       "      <td>0.996747</td>\n",
       "      <td>1</td>\n",
       "    </tr>\n",
       "    <tr>\n",
       "      <th>460</th>\n",
       "      <td>I have been very happy with this pail  The gre...</td>\n",
       "      <td>0.996585</td>\n",
       "      <td>1</td>\n",
       "    </tr>\n",
       "    <tr>\n",
       "      <th>576</th>\n",
       "      <td>I just wanted to say that I love my Diaper Cha...</td>\n",
       "      <td>0.995835</td>\n",
       "      <td>1</td>\n",
       "    </tr>\n",
       "    <tr>\n",
       "      <th>454</th>\n",
       "      <td>After Our Diaper Genie broke after 2 years I w...</td>\n",
       "      <td>0.995734</td>\n",
       "      <td>1</td>\n",
       "    </tr>\n",
       "    <tr>\n",
       "      <th>410</th>\n",
       "      <td>I have no problems with my Diaper Champ  Its g...</td>\n",
       "      <td>0.995659</td>\n",
       "      <td>1</td>\n",
       "    </tr>\n",
       "    <tr>\n",
       "      <th>627</th>\n",
       "      <td>I have been using the Diaper Champ for the pas...</td>\n",
       "      <td>0.995157</td>\n",
       "      <td>1</td>\n",
       "    </tr>\n",
       "    <tr>\n",
       "      <th>564</th>\n",
       "      <td>This product has been great  Its easy to use h...</td>\n",
       "      <td>0.995049</td>\n",
       "      <td>1</td>\n",
       "    </tr>\n",
       "    <tr>\n",
       "      <th>346</th>\n",
       "      <td>I love the convenience of not having to buy sp...</td>\n",
       "      <td>0.994962</td>\n",
       "      <td>1</td>\n",
       "    </tr>\n",
       "    <tr>\n",
       "      <th>370</th>\n",
       "      <td>I wasnt interested in getting the Diaper Genie...</td>\n",
       "      <td>0.994747</td>\n",
       "      <td>1</td>\n",
       "    </tr>\n",
       "    <tr>\n",
       "      <th>626</th>\n",
       "      <td>The Diaper Champ not only holds bombs it is th...</td>\n",
       "      <td>0.994004</td>\n",
       "      <td>1</td>\n",
       "    </tr>\n",
       "    <tr>\n",
       "      <th>459</th>\n",
       "      <td>Love it love it love it  This lives up to the ...</td>\n",
       "      <td>0.993919</td>\n",
       "      <td>1</td>\n",
       "    </tr>\n",
       "    <tr>\n",
       "      <th>383</th>\n",
       "      <td>I started off with the Genie but quickly reali...</td>\n",
       "      <td>0.992824</td>\n",
       "      <td>1</td>\n",
       "    </tr>\n",
       "    <tr>\n",
       "      <th>381</th>\n",
       "      <td>My baby is 1 month old now and we have been us...</td>\n",
       "      <td>0.990393</td>\n",
       "      <td>1</td>\n",
       "    </tr>\n",
       "    <tr>\n",
       "      <th>497</th>\n",
       "      <td>I have a twoyearold son and I love the Diaper ...</td>\n",
       "      <td>0.987168</td>\n",
       "      <td>1</td>\n",
       "    </tr>\n",
       "    <tr>\n",
       "      <th>579</th>\n",
       "      <td>I wanted a diaper pail that didnt stink Id hea...</td>\n",
       "      <td>0.986728</td>\n",
       "      <td>1</td>\n",
       "    </tr>\n",
       "    <tr>\n",
       "      <th>434</th>\n",
       "      <td>This is an excellent idea having the lid to di...</td>\n",
       "      <td>0.983127</td>\n",
       "      <td>1</td>\n",
       "    </tr>\n",
       "    <tr>\n",
       "      <th>560</th>\n",
       "      <td>I have owned a Diaper Dekor and now a Diaper C...</td>\n",
       "      <td>0.981871</td>\n",
       "      <td>1</td>\n",
       "    </tr>\n",
       "    <tr>\n",
       "      <th>369</th>\n",
       "      <td>We wanted to have a convenient locking recepta...</td>\n",
       "      <td>0.980765</td>\n",
       "      <td>1</td>\n",
       "    </tr>\n",
       "    <tr>\n",
       "      <th>435</th>\n",
       "      <td>It is so easy to use You never have to change ...</td>\n",
       "      <td>0.979846</td>\n",
       "      <td>1</td>\n",
       "    </tr>\n",
       "    <tr>\n",
       "      <th>527</th>\n",
       "      <td>I bought this trying to save a few dollars and...</td>\n",
       "      <td>0.978540</td>\n",
       "      <td>1</td>\n",
       "    </tr>\n",
       "    <tr>\n",
       "      <th>436</th>\n",
       "      <td>I love this diaper pail Yea if you let poopy d...</td>\n",
       "      <td>0.975534</td>\n",
       "      <td>1</td>\n",
       "    </tr>\n",
       "    <tr>\n",
       "      <th>520</th>\n",
       "      <td>My son and daughterinlaw requested this item a...</td>\n",
       "      <td>0.975452</td>\n",
       "      <td>1</td>\n",
       "    </tr>\n",
       "    <tr>\n",
       "      <th>321</th>\n",
       "      <td>I am so glad I got the Diaper Champ instead of...</td>\n",
       "      <td>0.974858</td>\n",
       "      <td>1</td>\n",
       "    </tr>\n",
       "    <tr>\n",
       "      <th>475</th>\n",
       "      <td>We have ours in our living room and you cant s...</td>\n",
       "      <td>0.940031</td>\n",
       "      <td>1</td>\n",
       "    </tr>\n",
       "    <tr>\n",
       "      <th>407</th>\n",
       "      <td>love it because it uses the bags from the groc...</td>\n",
       "      <td>0.898364</td>\n",
       "      <td>1</td>\n",
       "    </tr>\n",
       "    <tr>\n",
       "      <th>438</th>\n",
       "      <td>This is a great diaper disposal system but fro...</td>\n",
       "      <td>0.808660</td>\n",
       "      <td>1</td>\n",
       "    </tr>\n",
       "    <tr>\n",
       "      <th>424</th>\n",
       "      <td>If you dont want the baby room to smell bad an...</td>\n",
       "      <td>0.785182</td>\n",
       "      <td>1</td>\n",
       "    </tr>\n",
       "    <tr>\n",
       "      <th>615</th>\n",
       "      <td>I bought the Diaper Champ because it was recom...</td>\n",
       "      <td>0.611623</td>\n",
       "      <td>1</td>\n",
       "    </tr>\n",
       "    <tr>\n",
       "      <th>525</th>\n",
       "      <td>I laughed when my husband wanted this product ...</td>\n",
       "      <td>0.559659</td>\n",
       "      <td>1</td>\n",
       "    </tr>\n",
       "    <tr>\n",
       "      <th>338</th>\n",
       "      <td>We originally had the diaper genie which we fo...</td>\n",
       "      <td>0.471371</td>\n",
       "      <td>-1</td>\n",
       "    </tr>\n",
       "    <tr>\n",
       "      <th>578</th>\n",
       "      <td>I have to agree with the other moms At first t...</td>\n",
       "      <td>0.324913</td>\n",
       "      <td>-1</td>\n",
       "    </tr>\n",
       "    <tr>\n",
       "      <th>448</th>\n",
       "      <td>GOOD POINTSEasy to operate and changeLess expe...</td>\n",
       "      <td>0.223725</td>\n",
       "      <td>-1</td>\n",
       "    </tr>\n",
       "    <tr>\n",
       "      <th>588</th>\n",
       "      <td>This thing doesnt work very well It still smel...</td>\n",
       "      <td>0.143126</td>\n",
       "      <td>-1</td>\n",
       "    </tr>\n",
       "    <tr>\n",
       "      <th>332</th>\n",
       "      <td>We loved this pail at first The mechanism seem...</td>\n",
       "      <td>0.142873</td>\n",
       "      <td>-1</td>\n",
       "    </tr>\n",
       "    <tr>\n",
       "      <th>522</th>\n",
       "      <td>The Diaper Champ is TERRIBLE at keeping the sm...</td>\n",
       "      <td>0.028421</td>\n",
       "      <td>-1</td>\n",
       "    </tr>\n",
       "  </tbody>\n",
       "</table>\n",
       "</div>"
      ],
      "text/plain": [
       "                                          review_clean  \\\n",
       "513  I have never written a review for Amazon but I...   \n",
       "559  Ive worked with kids more than half my life Fi...   \n",
       "420  Baby Luke can turn a clean diaper to a dirty d...   \n",
       "330  Although I had a Diaper Genie from my first ch...   \n",
       "547  I received the Diaper Champ at my baby shower ...   \n",
       "509  My husband and I wanted this style vs the Diap...   \n",
       "625  We are using the Diaper Champ with our first b...   \n",
       "418  This has been a fantastic diaper pail for us  ...   \n",
       "315  Excellent diaper disposal unit  I used it in c...   \n",
       "584  We have been using a d champ for nearly four y...   \n",
       "468  My husband and I originally registered for the...   \n",
       "534  Wow  This is fabulous  It was a tossup between...   \n",
       "421  I find this product easy to operate  With any ...   \n",
       "356  This product meets all my expectations The dia...   \n",
       "460  I have been very happy with this pail  The gre...   \n",
       "576  I just wanted to say that I love my Diaper Cha...   \n",
       "454  After Our Diaper Genie broke after 2 years I w...   \n",
       "410  I have no problems with my Diaper Champ  Its g...   \n",
       "627  I have been using the Diaper Champ for the pas...   \n",
       "564  This product has been great  Its easy to use h...   \n",
       "346  I love the convenience of not having to buy sp...   \n",
       "370  I wasnt interested in getting the Diaper Genie...   \n",
       "626  The Diaper Champ not only holds bombs it is th...   \n",
       "459  Love it love it love it  This lives up to the ...   \n",
       "383  I started off with the Genie but quickly reali...   \n",
       "381  My baby is 1 month old now and we have been us...   \n",
       "497  I have a twoyearold son and I love the Diaper ...   \n",
       "579  I wanted a diaper pail that didnt stink Id hea...   \n",
       "434  This is an excellent idea having the lid to di...   \n",
       "560  I have owned a Diaper Dekor and now a Diaper C...   \n",
       "369  We wanted to have a convenient locking recepta...   \n",
       "435  It is so easy to use You never have to change ...   \n",
       "527  I bought this trying to save a few dollars and...   \n",
       "436  I love this diaper pail Yea if you let poopy d...   \n",
       "520  My son and daughterinlaw requested this item a...   \n",
       "321  I am so glad I got the Diaper Champ instead of...   \n",
       "475  We have ours in our living room and you cant s...   \n",
       "407  love it because it uses the bags from the groc...   \n",
       "438  This is a great diaper disposal system but fro...   \n",
       "424  If you dont want the baby room to smell bad an...   \n",
       "615  I bought the Diaper Champ because it was recom...   \n",
       "525  I laughed when my husband wanted this product ...   \n",
       "338  We originally had the diaper genie which we fo...   \n",
       "578  I have to agree with the other moms At first t...   \n",
       "448  GOOD POINTSEasy to operate and changeLess expe...   \n",
       "588  This thing doesnt work very well It still smel...   \n",
       "332  We loved this pail at first The mechanism seem...   \n",
       "522  The Diaper Champ is TERRIBLE at keeping the sm...   \n",
       "\n",
       "     predicted_sentiment_prob  predicted_sentiment  \n",
       "513                  1.000000                    1  \n",
       "559                  0.999999                    1  \n",
       "420                  0.999997                    1  \n",
       "330                  0.999993                    1  \n",
       "547                  0.999992                    1  \n",
       "509                  0.999986                    1  \n",
       "625                  0.999913                    1  \n",
       "418                  0.999780                    1  \n",
       "315                  0.999738                    1  \n",
       "584                  0.999322                    1  \n",
       "468                  0.997750                    1  \n",
       "534                  0.997650                    1  \n",
       "421                  0.996890                    1  \n",
       "356                  0.996747                    1  \n",
       "460                  0.996585                    1  \n",
       "576                  0.995835                    1  \n",
       "454                  0.995734                    1  \n",
       "410                  0.995659                    1  \n",
       "627                  0.995157                    1  \n",
       "564                  0.995049                    1  \n",
       "346                  0.994962                    1  \n",
       "370                  0.994747                    1  \n",
       "626                  0.994004                    1  \n",
       "459                  0.993919                    1  \n",
       "383                  0.992824                    1  \n",
       "381                  0.990393                    1  \n",
       "497                  0.987168                    1  \n",
       "579                  0.986728                    1  \n",
       "434                  0.983127                    1  \n",
       "560                  0.981871                    1  \n",
       "369                  0.980765                    1  \n",
       "435                  0.979846                    1  \n",
       "527                  0.978540                    1  \n",
       "436                  0.975534                    1  \n",
       "520                  0.975452                    1  \n",
       "321                  0.974858                    1  \n",
       "475                  0.940031                    1  \n",
       "407                  0.898364                    1  \n",
       "438                  0.808660                    1  \n",
       "424                  0.785182                    1  \n",
       "615                  0.611623                    1  \n",
       "525                  0.559659                    1  \n",
       "338                  0.471371                   -1  \n",
       "578                  0.324913                   -1  \n",
       "448                  0.223725                   -1  \n",
       "588                  0.143126                   -1  \n",
       "332                  0.142873                   -1  \n",
       "522                  0.028421                   -1  "
      ]
     },
     "execution_count": 183,
     "metadata": {},
     "output_type": "execute_result"
    }
   ],
   "source": [
    "diaper_review_sentiment_pred_proba.sort_values(by='predicted_sentiment_prob', ascending=False)"
   ]
  },
  {
   "cell_type": "markdown",
   "metadata": {},
   "source": [
    "What is the ‘predicted_sentiment’ for the most positive review for ‘Baby Trend Diaper Champ’ according to the sentiment_model from the Jupyter Notebook from lecture?  Save this result to answer the quiz at the end."
   ]
  },
  {
   "cell_type": "code",
   "execution_count": 184,
   "metadata": {},
   "outputs": [
    {
     "data": {
      "text/plain": [
       "'I have never written a review for Amazon but I saw some of the poor reviews on the Diaper Champ and had to add my two cents   When my sister got pregnant she could not decide if she should register for the Diaper Champ or the Diaper Genie  She left it up to me and after reviewing both items I went with the Diaper Champ     The idea of having to continually purchase bags for the Diaper Genie seemed like a waste when the Diaper Champ lets you use any type of bag     My nephew is now over two years old and while he has begun potty training my sister still uses the Diaper Champ I gave her   When it came time for me to choose a diaper disposal system I put the Diaper Champ on my registry  Yes it can be a bit tricky to open I found using two hands works best but then again do I want something that is holding wet and otherwise dirty diapers to open easily  True the mechanism sometimes wont swing the dirty diaper into the pail but HELLO that is a sign that it is probably time to put in a new bag  Yes it can eventually start to smell if you dont change it regularly    but then again if you used a metal safe lined with carbon to hold your kids diapers eventually baby poop and pee smell would emanate from it if you didnt clean it out regularly    Realistically the thing holds dirty stinky diapers and yep it is going to smell when you open it but hey    my kids tush smells when I wipe it but I still love him My personal tip    if you belong to a wholesale club like BJs Costco or Sams check to see if they have the Glad Kitchen Bags  The BJs we shop in has a box of 200 for 999  As long as you do not attempt to overstuff them ie get lazy and dont change the bag regularly they work perfectly  I also use them in the small garbage pails in our apartment  I could wait for a sale and use a coupon the way I shop for most things but it takes months to go through the box and I like knowing they are always on hand    At about 05 a bag the super duper box of bags makes my life easy and that as any parent knows is PRICELESS'"
      ]
     },
     "execution_count": 184,
     "metadata": {},
     "output_type": "execute_result"
    }
   ],
   "source": [
    "diaper_review_sentiment_pred_proba.sort_values(by='predicted_sentiment_prob', ascending=False).iloc[0]['review_clean']"
   ]
  },
  {
   "cell_type": "markdown",
   "metadata": {},
   "source": [
    "Now use the selected_words_model you learned using just the selected_words to predict the sentiment most positive review you found above. Hint: if you sorted the diaper_champ_reviews in descending order (from most positive to most negative), this command will be helpful to make the prediction you need:"
   ]
  },
  {
   "cell_type": "code",
   "execution_count": 186,
   "metadata": {},
   "outputs": [],
   "source": [
    "diaper_selected_words_model_pred_proba = selected_words_model.predict_proba(diaper_champ_reviews_test[selected_words])\n",
    "diaper_selected_words_model_pred = selected_words_model.predict(diaper_champ_reviews_test[selected_words])"
   ]
  },
  {
   "cell_type": "code",
   "execution_count": 187,
   "metadata": {},
   "outputs": [],
   "source": [
    "diaper_selected_words_model_pred_proba = pd.DataFrame(\n",
    "    {'review_clean': diaper_champ_reviews['review_clean'],\n",
    "     'predicted_sentiment_prob': diaper_selected_words_model_pred_proba[:,1].tolist(),\n",
    "     'predicted_sentiment': diaper_selected_words_model_pred.tolist()\n",
    "    })"
   ]
  },
  {
   "cell_type": "code",
   "execution_count": 188,
   "metadata": {},
   "outputs": [
    {
     "data": {
      "text/plain": [
       "'I have a twoyearold son and I love the Diaper Champ We initially bought a Diaper Genie and used it for the first 9 months or so but we really disliked it It was difficult to use loud and then broke on us We switched the Diaper Champ and love it It contains our toddlers odors just fine We change the bag once a week and when we change a diaper we make sure to roll it up tightly and use the sticky tabs to close it up'"
      ]
     },
     "execution_count": 188,
     "metadata": {},
     "output_type": "execute_result"
    }
   ],
   "source": [
    "diaper_selected_words_model_pred_proba.sort_values(by='predicted_sentiment_prob', ascending=False).iloc[0]['review_clean']"
   ]
  }
 ],
 "metadata": {
  "kernelspec": {
   "display_name": "Python 3 (ipykernel)",
   "language": "python",
   "name": "python3"
  },
  "language_info": {
   "codemirror_mode": {
    "name": "ipython",
    "version": 3
   },
   "file_extension": ".py",
   "mimetype": "text/x-python",
   "name": "python",
   "nbconvert_exporter": "python",
   "pygments_lexer": "ipython3",
   "version": "3.7.9"
  }
 },
 "nbformat": 4,
 "nbformat_minor": 4
}
