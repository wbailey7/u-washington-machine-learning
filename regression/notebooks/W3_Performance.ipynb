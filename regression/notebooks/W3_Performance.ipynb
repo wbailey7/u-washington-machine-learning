{
 "cells": [
  {
   "cell_type": "markdown",
   "metadata": {},
   "source": [
    "# Regression Week 3: Assessing Fit (polynomial regression)"
   ]
  },
  {
   "cell_type": "markdown",
   "metadata": {},
   "source": [
    "In this notebook you will compare different regression models in order to assess which model fits best. We will be using polynomial regression as a means to examine this topic. In particular you will:\n",
    "* Use matplotlib to visualize polynomial regressions\n",
    "* Use matplotlib to visualize the same polynomial degree on different subsets of the data\n",
    "* Use a validation set to select a polynomial degree\n",
    "* Assess the final fit using test data\n",
    "\n",
    "We will continue to use the House data from previous notebooks."
   ]
  },
  {
   "cell_type": "code",
   "execution_count": 5,
   "metadata": {},
   "outputs": [],
   "source": [
    "import numpy as np\n",
    "import pandas as pd\n",
    "from sklearn import linear_model\n",
    "\n",
    "def polynomial_dataframe(feature, degree):\n",
    "    poly_dataframe = pd.DataFrame()\n",
    "    poly_dataframe['power_1'] = feature\n",
    "    if degree > 1:\n",
    "        for power in range(2, degree+1):\n",
    "            name = 'power_' + str(power)\n",
    "            poly_dataframe[name] = np.power(feature, power)\n",
    "    return poly_dataframe"
   ]
  },
  {
   "cell_type": "code",
   "execution_count": 6,
   "metadata": {},
   "outputs": [],
   "source": [
    "dtype_dict = {'bathrooms':float, \n",
    "              'waterfront':int, \n",
    "              'sqft_above':int, \n",
    "              'sqft_living15':float, \n",
    "              'grade':int, \n",
    "              'yr_renovated':int, \n",
    "              'price':float, \n",
    "              'bedrooms':float, \n",
    "              'zipcode':str, \n",
    "              'long':float, \n",
    "              'sqft_lot15':float, \n",
    "              'sqft_living':float, \n",
    "              'floors':str, \n",
    "              'condition':int, \n",
    "              'lat':float, \n",
    "              'date':str, \n",
    "              'sqft_basement':int, \n",
    "              'yr_built':int, \n",
    "              'id':str, \n",
    "              'sqft_lot':int, \n",
    "              'view':int}"
   ]
  },
  {
   "cell_type": "markdown",
   "metadata": {},
   "source": [
    "Read in Sales Data"
   ]
  },
  {
   "cell_type": "code",
   "execution_count": 60,
   "metadata": {},
   "outputs": [
    {
     "data": {
      "text/html": [
       "<div>\n",
       "<style scoped>\n",
       "    .dataframe tbody tr th:only-of-type {\n",
       "        vertical-align: middle;\n",
       "    }\n",
       "\n",
       "    .dataframe tbody tr th {\n",
       "        vertical-align: top;\n",
       "    }\n",
       "\n",
       "    .dataframe thead th {\n",
       "        text-align: right;\n",
       "    }\n",
       "</style>\n",
       "<table border=\"1\" class=\"dataframe\">\n",
       "  <thead>\n",
       "    <tr style=\"text-align: right;\">\n",
       "      <th></th>\n",
       "      <th>id</th>\n",
       "      <th>date</th>\n",
       "      <th>price</th>\n",
       "      <th>bedrooms</th>\n",
       "      <th>bathrooms</th>\n",
       "      <th>sqft_living</th>\n",
       "      <th>sqft_lot</th>\n",
       "      <th>floors</th>\n",
       "      <th>waterfront</th>\n",
       "      <th>view</th>\n",
       "      <th>...</th>\n",
       "      <th>grade</th>\n",
       "      <th>sqft_above</th>\n",
       "      <th>sqft_basement</th>\n",
       "      <th>yr_built</th>\n",
       "      <th>yr_renovated</th>\n",
       "      <th>zipcode</th>\n",
       "      <th>lat</th>\n",
       "      <th>long</th>\n",
       "      <th>sqft_living15</th>\n",
       "      <th>sqft_lot15</th>\n",
       "    </tr>\n",
       "  </thead>\n",
       "  <tbody>\n",
       "    <tr>\n",
       "      <th>19452</th>\n",
       "      <td>3980300371</td>\n",
       "      <td>20140926T000000</td>\n",
       "      <td>142000.0</td>\n",
       "      <td>0.0</td>\n",
       "      <td>0.00</td>\n",
       "      <td>290.0</td>\n",
       "      <td>20875</td>\n",
       "      <td>1</td>\n",
       "      <td>0</td>\n",
       "      <td>0</td>\n",
       "      <td>...</td>\n",
       "      <td>1</td>\n",
       "      <td>290</td>\n",
       "      <td>0</td>\n",
       "      <td>1963</td>\n",
       "      <td>0</td>\n",
       "      <td>98024</td>\n",
       "      <td>47.5308</td>\n",
       "      <td>-121.888</td>\n",
       "      <td>1620.0</td>\n",
       "      <td>22850.0</td>\n",
       "    </tr>\n",
       "    <tr>\n",
       "      <th>15381</th>\n",
       "      <td>2856101479</td>\n",
       "      <td>20140701T000000</td>\n",
       "      <td>276000.0</td>\n",
       "      <td>1.0</td>\n",
       "      <td>0.75</td>\n",
       "      <td>370.0</td>\n",
       "      <td>1801</td>\n",
       "      <td>1</td>\n",
       "      <td>0</td>\n",
       "      <td>0</td>\n",
       "      <td>...</td>\n",
       "      <td>5</td>\n",
       "      <td>370</td>\n",
       "      <td>0</td>\n",
       "      <td>1923</td>\n",
       "      <td>0</td>\n",
       "      <td>98117</td>\n",
       "      <td>47.6778</td>\n",
       "      <td>-122.389</td>\n",
       "      <td>1340.0</td>\n",
       "      <td>5000.0</td>\n",
       "    </tr>\n",
       "    <tr>\n",
       "      <th>860</th>\n",
       "      <td>1723049033</td>\n",
       "      <td>20140620T000000</td>\n",
       "      <td>245000.0</td>\n",
       "      <td>1.0</td>\n",
       "      <td>0.75</td>\n",
       "      <td>380.0</td>\n",
       "      <td>15000</td>\n",
       "      <td>1</td>\n",
       "      <td>0</td>\n",
       "      <td>0</td>\n",
       "      <td>...</td>\n",
       "      <td>5</td>\n",
       "      <td>380</td>\n",
       "      <td>0</td>\n",
       "      <td>1963</td>\n",
       "      <td>0</td>\n",
       "      <td>98168</td>\n",
       "      <td>47.4810</td>\n",
       "      <td>-122.323</td>\n",
       "      <td>1170.0</td>\n",
       "      <td>15000.0</td>\n",
       "    </tr>\n",
       "    <tr>\n",
       "      <th>18379</th>\n",
       "      <td>1222029077</td>\n",
       "      <td>20141029T000000</td>\n",
       "      <td>265000.0</td>\n",
       "      <td>0.0</td>\n",
       "      <td>0.75</td>\n",
       "      <td>384.0</td>\n",
       "      <td>213444</td>\n",
       "      <td>1</td>\n",
       "      <td>0</td>\n",
       "      <td>0</td>\n",
       "      <td>...</td>\n",
       "      <td>4</td>\n",
       "      <td>384</td>\n",
       "      <td>0</td>\n",
       "      <td>2003</td>\n",
       "      <td>0</td>\n",
       "      <td>98070</td>\n",
       "      <td>47.4177</td>\n",
       "      <td>-122.491</td>\n",
       "      <td>1920.0</td>\n",
       "      <td>224341.0</td>\n",
       "    </tr>\n",
       "    <tr>\n",
       "      <th>4868</th>\n",
       "      <td>6896300380</td>\n",
       "      <td>20141002T000000</td>\n",
       "      <td>228000.0</td>\n",
       "      <td>0.0</td>\n",
       "      <td>1.00</td>\n",
       "      <td>390.0</td>\n",
       "      <td>5900</td>\n",
       "      <td>1</td>\n",
       "      <td>0</td>\n",
       "      <td>0</td>\n",
       "      <td>...</td>\n",
       "      <td>4</td>\n",
       "      <td>390</td>\n",
       "      <td>0</td>\n",
       "      <td>1953</td>\n",
       "      <td>0</td>\n",
       "      <td>98118</td>\n",
       "      <td>47.5260</td>\n",
       "      <td>-122.261</td>\n",
       "      <td>2170.0</td>\n",
       "      <td>6000.0</td>\n",
       "    </tr>\n",
       "    <tr>\n",
       "      <th>...</th>\n",
       "      <td>...</td>\n",
       "      <td>...</td>\n",
       "      <td>...</td>\n",
       "      <td>...</td>\n",
       "      <td>...</td>\n",
       "      <td>...</td>\n",
       "      <td>...</td>\n",
       "      <td>...</td>\n",
       "      <td>...</td>\n",
       "      <td>...</td>\n",
       "      <td>...</td>\n",
       "      <td>...</td>\n",
       "      <td>...</td>\n",
       "      <td>...</td>\n",
       "      <td>...</td>\n",
       "      <td>...</td>\n",
       "      <td>...</td>\n",
       "      <td>...</td>\n",
       "      <td>...</td>\n",
       "      <td>...</td>\n",
       "      <td>...</td>\n",
       "    </tr>\n",
       "    <tr>\n",
       "      <th>8092</th>\n",
       "      <td>1924059029</td>\n",
       "      <td>20140617T000000</td>\n",
       "      <td>4668000.0</td>\n",
       "      <td>5.0</td>\n",
       "      <td>6.75</td>\n",
       "      <td>9640.0</td>\n",
       "      <td>13068</td>\n",
       "      <td>1</td>\n",
       "      <td>1</td>\n",
       "      <td>4</td>\n",
       "      <td>...</td>\n",
       "      <td>12</td>\n",
       "      <td>4820</td>\n",
       "      <td>4820</td>\n",
       "      <td>1983</td>\n",
       "      <td>2009</td>\n",
       "      <td>98040</td>\n",
       "      <td>47.5570</td>\n",
       "      <td>-122.210</td>\n",
       "      <td>3270.0</td>\n",
       "      <td>10454.0</td>\n",
       "    </tr>\n",
       "    <tr>\n",
       "      <th>9254</th>\n",
       "      <td>9208900037</td>\n",
       "      <td>20140919T000000</td>\n",
       "      <td>6885000.0</td>\n",
       "      <td>6.0</td>\n",
       "      <td>7.75</td>\n",
       "      <td>9890.0</td>\n",
       "      <td>31374</td>\n",
       "      <td>2</td>\n",
       "      <td>0</td>\n",
       "      <td>4</td>\n",
       "      <td>...</td>\n",
       "      <td>13</td>\n",
       "      <td>8860</td>\n",
       "      <td>1030</td>\n",
       "      <td>2001</td>\n",
       "      <td>0</td>\n",
       "      <td>98039</td>\n",
       "      <td>47.6305</td>\n",
       "      <td>-122.240</td>\n",
       "      <td>4540.0</td>\n",
       "      <td>42730.0</td>\n",
       "    </tr>\n",
       "    <tr>\n",
       "      <th>3914</th>\n",
       "      <td>9808700762</td>\n",
       "      <td>20140611T000000</td>\n",
       "      <td>7062500.0</td>\n",
       "      <td>5.0</td>\n",
       "      <td>4.50</td>\n",
       "      <td>10040.0</td>\n",
       "      <td>37325</td>\n",
       "      <td>2</td>\n",
       "      <td>1</td>\n",
       "      <td>2</td>\n",
       "      <td>...</td>\n",
       "      <td>11</td>\n",
       "      <td>7680</td>\n",
       "      <td>2360</td>\n",
       "      <td>1940</td>\n",
       "      <td>2001</td>\n",
       "      <td>98004</td>\n",
       "      <td>47.6500</td>\n",
       "      <td>-122.214</td>\n",
       "      <td>3930.0</td>\n",
       "      <td>25449.0</td>\n",
       "    </tr>\n",
       "    <tr>\n",
       "      <th>7252</th>\n",
       "      <td>6762700020</td>\n",
       "      <td>20141013T000000</td>\n",
       "      <td>7700000.0</td>\n",
       "      <td>6.0</td>\n",
       "      <td>8.00</td>\n",
       "      <td>12050.0</td>\n",
       "      <td>27600</td>\n",
       "      <td>2.5</td>\n",
       "      <td>0</td>\n",
       "      <td>3</td>\n",
       "      <td>...</td>\n",
       "      <td>13</td>\n",
       "      <td>8570</td>\n",
       "      <td>3480</td>\n",
       "      <td>1910</td>\n",
       "      <td>1987</td>\n",
       "      <td>98102</td>\n",
       "      <td>47.6298</td>\n",
       "      <td>-122.323</td>\n",
       "      <td>3940.0</td>\n",
       "      <td>8800.0</td>\n",
       "    </tr>\n",
       "    <tr>\n",
       "      <th>12777</th>\n",
       "      <td>1225069038</td>\n",
       "      <td>20140505T000000</td>\n",
       "      <td>2280000.0</td>\n",
       "      <td>7.0</td>\n",
       "      <td>8.00</td>\n",
       "      <td>13540.0</td>\n",
       "      <td>307752</td>\n",
       "      <td>3</td>\n",
       "      <td>0</td>\n",
       "      <td>4</td>\n",
       "      <td>...</td>\n",
       "      <td>12</td>\n",
       "      <td>9410</td>\n",
       "      <td>4130</td>\n",
       "      <td>1999</td>\n",
       "      <td>0</td>\n",
       "      <td>98053</td>\n",
       "      <td>47.6675</td>\n",
       "      <td>-121.986</td>\n",
       "      <td>4850.0</td>\n",
       "      <td>217800.0</td>\n",
       "    </tr>\n",
       "  </tbody>\n",
       "</table>\n",
       "<p>21613 rows × 21 columns</p>\n",
       "</div>"
      ],
      "text/plain": [
       "               id             date      price  bedrooms  bathrooms  \\\n",
       "19452  3980300371  20140926T000000   142000.0       0.0       0.00   \n",
       "15381  2856101479  20140701T000000   276000.0       1.0       0.75   \n",
       "860    1723049033  20140620T000000   245000.0       1.0       0.75   \n",
       "18379  1222029077  20141029T000000   265000.0       0.0       0.75   \n",
       "4868   6896300380  20141002T000000   228000.0       0.0       1.00   \n",
       "...           ...              ...        ...       ...        ...   \n",
       "8092   1924059029  20140617T000000  4668000.0       5.0       6.75   \n",
       "9254   9208900037  20140919T000000  6885000.0       6.0       7.75   \n",
       "3914   9808700762  20140611T000000  7062500.0       5.0       4.50   \n",
       "7252   6762700020  20141013T000000  7700000.0       6.0       8.00   \n",
       "12777  1225069038  20140505T000000  2280000.0       7.0       8.00   \n",
       "\n",
       "       sqft_living  sqft_lot floors  waterfront  view  ...  grade  sqft_above  \\\n",
       "19452        290.0     20875      1           0     0  ...      1         290   \n",
       "15381        370.0      1801      1           0     0  ...      5         370   \n",
       "860          380.0     15000      1           0     0  ...      5         380   \n",
       "18379        384.0    213444      1           0     0  ...      4         384   \n",
       "4868         390.0      5900      1           0     0  ...      4         390   \n",
       "...            ...       ...    ...         ...   ...  ...    ...         ...   \n",
       "8092        9640.0     13068      1           1     4  ...     12        4820   \n",
       "9254        9890.0     31374      2           0     4  ...     13        8860   \n",
       "3914       10040.0     37325      2           1     2  ...     11        7680   \n",
       "7252       12050.0     27600    2.5           0     3  ...     13        8570   \n",
       "12777      13540.0    307752      3           0     4  ...     12        9410   \n",
       "\n",
       "       sqft_basement  yr_built  yr_renovated  zipcode      lat     long  \\\n",
       "19452              0      1963             0    98024  47.5308 -121.888   \n",
       "15381              0      1923             0    98117  47.6778 -122.389   \n",
       "860                0      1963             0    98168  47.4810 -122.323   \n",
       "18379              0      2003             0    98070  47.4177 -122.491   \n",
       "4868               0      1953             0    98118  47.5260 -122.261   \n",
       "...              ...       ...           ...      ...      ...      ...   \n",
       "8092            4820      1983          2009    98040  47.5570 -122.210   \n",
       "9254            1030      2001             0    98039  47.6305 -122.240   \n",
       "3914            2360      1940          2001    98004  47.6500 -122.214   \n",
       "7252            3480      1910          1987    98102  47.6298 -122.323   \n",
       "12777           4130      1999             0    98053  47.6675 -121.986   \n",
       "\n",
       "       sqft_living15  sqft_lot15  \n",
       "19452         1620.0     22850.0  \n",
       "15381         1340.0      5000.0  \n",
       "860           1170.0     15000.0  \n",
       "18379         1920.0    224341.0  \n",
       "4868          2170.0      6000.0  \n",
       "...              ...         ...  \n",
       "8092          3270.0     10454.0  \n",
       "9254          4540.0     42730.0  \n",
       "3914          3930.0     25449.0  \n",
       "7252          3940.0      8800.0  \n",
       "12777         4850.0    217800.0  \n",
       "\n",
       "[21613 rows x 21 columns]"
      ]
     },
     "execution_count": 60,
     "metadata": {},
     "output_type": "execute_result"
    }
   ],
   "source": [
    "sales = pd.read_csv('~/Courses/u-wash-machine-learning/regression/data/kc_house_data.csv', dtype=dtype_dict)\n",
    "sales = sales.sort_values(['sqft_living','price'])\n",
    "sales"
   ]
  },
  {
   "cell_type": "markdown",
   "metadata": {},
   "source": [
    "Make a 1 degree polynomial dframe with sales[‘sqft_living’] as the the feature. Call it ‘poly1_data’."
   ]
  },
  {
   "cell_type": "code",
   "execution_count": 14,
   "metadata": {},
   "outputs": [
    {
     "data": {
      "text/html": [
       "<div>\n",
       "<style scoped>\n",
       "    .dataframe tbody tr th:only-of-type {\n",
       "        vertical-align: middle;\n",
       "    }\n",
       "\n",
       "    .dataframe tbody tr th {\n",
       "        vertical-align: top;\n",
       "    }\n",
       "\n",
       "    .dataframe thead th {\n",
       "        text-align: right;\n",
       "    }\n",
       "</style>\n",
       "<table border=\"1\" class=\"dataframe\">\n",
       "  <thead>\n",
       "    <tr style=\"text-align: right;\">\n",
       "      <th></th>\n",
       "      <th>power_1</th>\n",
       "      <th>price</th>\n",
       "    </tr>\n",
       "  </thead>\n",
       "  <tbody>\n",
       "    <tr>\n",
       "      <th>19452</th>\n",
       "      <td>290.0</td>\n",
       "      <td>142000.0</td>\n",
       "    </tr>\n",
       "    <tr>\n",
       "      <th>15381</th>\n",
       "      <td>370.0</td>\n",
       "      <td>276000.0</td>\n",
       "    </tr>\n",
       "  </tbody>\n",
       "</table>\n",
       "</div>"
      ],
      "text/plain": [
       "       power_1     price\n",
       "19452    290.0  142000.0\n",
       "15381    370.0  276000.0"
      ]
     },
     "execution_count": 14,
     "metadata": {},
     "output_type": "execute_result"
    }
   ],
   "source": [
    "poly1_data = polynomial_dataframe(sales['sqft_living'], 1)\n",
    "poly1_data['price'] = sales['price'] # add price to the data since it's the target\n",
    "poly1_data[:2]"
   ]
  },
  {
   "cell_type": "code",
   "execution_count": 3,
   "metadata": {},
   "outputs": [],
   "source": [
    "# Create linear regression object\n",
    "regr_model = linear_model.LinearRegression()"
   ]
  },
  {
   "cell_type": "code",
   "execution_count": 34,
   "metadata": {},
   "outputs": [],
   "source": [
    "# Set Features/Target\n",
    "features = ['power_1']\n",
    "target = ['price']\n",
    "\n",
    "# Set up Data\n",
    "X_train = poly1_data[features]\n",
    "y_train = poly1_data[target]\n",
    "\n",
    "# Fit Linear Regression\n",
    "model1 = regr_model.fit(X_train, y_train)"
   ]
  },
  {
   "cell_type": "code",
   "execution_count": 35,
   "metadata": {},
   "outputs": [
    {
     "name": "stdout",
     "output_type": "stream",
     "text": [
      "model 1: Coefficients: \n",
      " [[280.6235679]]\n",
      "model 1: intercept: \n",
      " [-43580.74309447]\n"
     ]
    }
   ],
   "source": [
    "print('model 1:','Coefficients: \\n', model1.coef_)\n",
    "print('model 1:','intercept: \\n', model1.intercept_)"
   ]
  },
  {
   "cell_type": "code",
   "execution_count": 48,
   "metadata": {},
   "outputs": [],
   "source": [
    "import matplotlib.pyplot as plt\n",
    "%matplotlib inline"
   ]
  },
  {
   "cell_type": "code",
   "execution_count": 37,
   "metadata": {},
   "outputs": [
    {
     "name": "stderr",
     "output_type": "stream",
     "text": [
      "/Users/wbailey7/venv/lib/python3.7/site-packages/sklearn/base.py:451: UserWarning: X does not have valid feature names, but LinearRegression was fitted with feature names\n",
      "  \"X does not have valid feature names, but\"\n"
     ]
    },
    {
     "data": {
      "text/plain": [
       "[<matplotlib.lines.Line2D at 0x7fa684fc6790>,\n",
       " <matplotlib.lines.Line2D at 0x7fa685376990>]"
      ]
     },
     "execution_count": 37,
     "metadata": {},
     "output_type": "execute_result"
    },
    {
     "data": {
      "image/png": "[encoded data removed]",
      "text/plain": [
       "<Figure size 432x288 with 1 Axes>"
      ]
     },
     "metadata": {
      "needs_background": "light"
     },
     "output_type": "display_data"
    }
   ],
   "source": [
    "fig = plt.figure()\n",
    "plt.xlabel('sqft')\n",
    "plt.ylabel('Price ($)')\n",
    "plt.plot(poly1_data['power_1'], poly1_data['price'],'.',\n",
    "         poly1_data['power_1'], model1.predict(poly1_data['power_1'].values.reshape((-1,1))),'-')"
   ]
  },
  {
   "cell_type": "markdown",
   "metadata": {},
   "source": [
    "Now that you have plotted the results using a 1st degree polynomial, try it again using a 2nd degree and 3rd degree polynomial. Look at the fitted lines, do they appear as you would expect?"
   ]
  },
  {
   "cell_type": "code",
   "execution_count": 40,
   "metadata": {},
   "outputs": [
    {
     "data": {
      "text/html": [
       "<div>\n",
       "<style scoped>\n",
       "    .dataframe tbody tr th:only-of-type {\n",
       "        vertical-align: middle;\n",
       "    }\n",
       "\n",
       "    .dataframe tbody tr th {\n",
       "        vertical-align: top;\n",
       "    }\n",
       "\n",
       "    .dataframe thead th {\n",
       "        text-align: right;\n",
       "    }\n",
       "</style>\n",
       "<table border=\"1\" class=\"dataframe\">\n",
       "  <thead>\n",
       "    <tr style=\"text-align: right;\">\n",
       "      <th></th>\n",
       "      <th>power_1</th>\n",
       "      <th>power_2</th>\n",
       "      <th>price</th>\n",
       "    </tr>\n",
       "  </thead>\n",
       "  <tbody>\n",
       "    <tr>\n",
       "      <th>19452</th>\n",
       "      <td>290.0</td>\n",
       "      <td>84100.0</td>\n",
       "      <td>142000.0</td>\n",
       "    </tr>\n",
       "    <tr>\n",
       "      <th>15381</th>\n",
       "      <td>370.0</td>\n",
       "      <td>136900.0</td>\n",
       "      <td>276000.0</td>\n",
       "    </tr>\n",
       "  </tbody>\n",
       "</table>\n",
       "</div>"
      ],
      "text/plain": [
       "       power_1   power_2     price\n",
       "19452    290.0   84100.0  142000.0\n",
       "15381    370.0  136900.0  276000.0"
      ]
     },
     "execution_count": 40,
     "metadata": {},
     "output_type": "execute_result"
    }
   ],
   "source": [
    "poly2_data = polynomial_dataframe(sales['sqft_living'], 2)\n",
    "my_features = poly2_data.columns.values.tolist() \n",
    "poly2_data['price'] = sales['price'] # add price to the data since it's the target\n",
    "poly2_data[:2]"
   ]
  },
  {
   "cell_type": "code",
   "execution_count": 41,
   "metadata": {},
   "outputs": [],
   "source": [
    "# Fit Linear Regression\n",
    "model2 = regr_model.fit(poly2_data[my_features].values.reshape((-1,2)), poly2_data['price'])"
   ]
  },
  {
   "cell_type": "code",
   "execution_count": 48,
   "metadata": {},
   "outputs": [
    {
     "name": "stdout",
     "output_type": "stream",
     "text": [
      "model 2: Coefficients: \n",
      " [-9.01819864e+01  8.70465089e-02 -3.84055260e-06]\n",
      "model 2: intercept: \n",
      " 336819.7482198205\n"
     ]
    }
   ],
   "source": [
    "print('model 2:','Coefficients: \\n', model2.coef_)\n",
    "print('model 2:','intercept: \\n', model2.intercept_)"
   ]
  },
  {
   "cell_type": "code",
   "execution_count": 43,
   "metadata": {},
   "outputs": [
    {
     "data": {
      "text/plain": [
       "[<matplotlib.lines.Line2D at 0x7fa685376790>,\n",
       " <matplotlib.lines.Line2D at 0x7fa68553a950>]"
      ]
     },
     "execution_count": 43,
     "metadata": {},
     "output_type": "execute_result"
    },
    {
     "data": {
      "image/png": "[encoded data removed]",
      "text/plain": [
       "<Figure size 432x288 with 1 Axes>"
      ]
     },
     "metadata": {
      "needs_background": "light"
     },
     "output_type": "display_data"
    }
   ],
   "source": [
    "fig = plt.figure()\n",
    "plt.xlabel('Quadratic Function (sqft)')\n",
    "plt.ylabel('Price ($)')\n",
    "plt.plot(poly2_data['power_1'], poly2_data['price'],'.',\n",
    "         poly2_data['power_1'], model2.predict(poly2_data[my_features].values.reshape((-1,2))),'-')"
   ]
  },
  {
   "cell_type": "code",
   "execution_count": 44,
   "metadata": {},
   "outputs": [
    {
     "data": {
      "text/html": [
       "<div>\n",
       "<style scoped>\n",
       "    .dataframe tbody tr th:only-of-type {\n",
       "        vertical-align: middle;\n",
       "    }\n",
       "\n",
       "    .dataframe tbody tr th {\n",
       "        vertical-align: top;\n",
       "    }\n",
       "\n",
       "    .dataframe thead th {\n",
       "        text-align: right;\n",
       "    }\n",
       "</style>\n",
       "<table border=\"1\" class=\"dataframe\">\n",
       "  <thead>\n",
       "    <tr style=\"text-align: right;\">\n",
       "      <th></th>\n",
       "      <th>power_1</th>\n",
       "      <th>power_2</th>\n",
       "      <th>power_3</th>\n",
       "      <th>price</th>\n",
       "    </tr>\n",
       "  </thead>\n",
       "  <tbody>\n",
       "    <tr>\n",
       "      <th>19452</th>\n",
       "      <td>290.0</td>\n",
       "      <td>84100.0</td>\n",
       "      <td>24389000.0</td>\n",
       "      <td>142000.0</td>\n",
       "    </tr>\n",
       "    <tr>\n",
       "      <th>15381</th>\n",
       "      <td>370.0</td>\n",
       "      <td>136900.0</td>\n",
       "      <td>50653000.0</td>\n",
       "      <td>276000.0</td>\n",
       "    </tr>\n",
       "  </tbody>\n",
       "</table>\n",
       "</div>"
      ],
      "text/plain": [
       "       power_1   power_2     power_3     price\n",
       "19452    290.0   84100.0  24389000.0  142000.0\n",
       "15381    370.0  136900.0  50653000.0  276000.0"
      ]
     },
     "execution_count": 44,
     "metadata": {},
     "output_type": "execute_result"
    }
   ],
   "source": [
    "poly3_data = polynomial_dataframe(sales['sqft_living'], 3)\n",
    "my_features = poly3_data.columns.values.tolist() \n",
    "poly3_data['price'] = sales['price'] # add price to the data since it's the target\n",
    "poly3_data[:2]"
   ]
  },
  {
   "cell_type": "code",
   "execution_count": 46,
   "metadata": {},
   "outputs": [],
   "source": [
    "# Fit Linear Regression\n",
    "model3 = regr_model.fit(poly3_data[my_features].values.reshape((-1,3)), poly3_data['price'])"
   ]
  },
  {
   "cell_type": "code",
   "execution_count": 47,
   "metadata": {},
   "outputs": [
    {
     "name": "stdout",
     "output_type": "stream",
     "text": [
      "model 3: Coefficients: \n",
      " [-9.01819864e+01  8.70465089e-02 -3.84055260e-06]\n",
      "model 3: intercept: \n",
      " 336819.7482198205\n"
     ]
    }
   ],
   "source": [
    "print('model 3:','Coefficients: \\n', model3.coef_)\n",
    "print('model 3:','intercept: \\n', model3.intercept_)"
   ]
  },
  {
   "cell_type": "code",
   "execution_count": 52,
   "metadata": {},
   "outputs": [
    {
     "data": {
      "text/plain": [
       "[<matplotlib.lines.Line2D at 0x7fa686412a10>,\n",
       " <matplotlib.lines.Line2D at 0x7fa686412bd0>]"
      ]
     },
     "execution_count": 52,
     "metadata": {},
     "output_type": "execute_result"
    },
    {
     "data": {
      "image/png": "[encoded data removed]",
      "text/plain": [
       "<Figure size 432x288 with 1 Axes>"
      ]
     },
     "metadata": {
      "needs_background": "light"
     },
     "output_type": "display_data"
    }
   ],
   "source": [
    "fig = plt.figure()\n",
    "plt.xlabel('Cubic Function (sqft)')\n",
    "plt.ylabel('Price ($)')\n",
    "plt.plot(poly3_data['power_1'], poly3_data['price'],'.',\n",
    "         poly3_data['power_1'], model3.predict(poly3_data[my_features].values.reshape((-1,3))),'-')"
   ]
  },
  {
   "cell_type": "markdown",
   "metadata": {},
   "source": [
    "Now try a 15th degree polynomial. Print out the coefficients and look at the resulted fitted line. Do you think this degree is appropriate for these data? If we were to use a different subset of the data do you think we would get pretty much the same curve?"
   ]
  },
  {
   "cell_type": "code",
   "execution_count": 53,
   "metadata": {},
   "outputs": [
    {
     "data": {
      "text/html": [
       "<div>\n",
       "<style scoped>\n",
       "    .dataframe tbody tr th:only-of-type {\n",
       "        vertical-align: middle;\n",
       "    }\n",
       "\n",
       "    .dataframe tbody tr th {\n",
       "        vertical-align: top;\n",
       "    }\n",
       "\n",
       "    .dataframe thead th {\n",
       "        text-align: right;\n",
       "    }\n",
       "</style>\n",
       "<table border=\"1\" class=\"dataframe\">\n",
       "  <thead>\n",
       "    <tr style=\"text-align: right;\">\n",
       "      <th></th>\n",
       "      <th>power_1</th>\n",
       "      <th>power_2</th>\n",
       "      <th>power_3</th>\n",
       "      <th>power_4</th>\n",
       "      <th>power_5</th>\n",
       "      <th>power_6</th>\n",
       "      <th>power_7</th>\n",
       "      <th>power_8</th>\n",
       "      <th>power_9</th>\n",
       "      <th>power_10</th>\n",
       "      <th>power_11</th>\n",
       "      <th>power_12</th>\n",
       "      <th>power_13</th>\n",
       "      <th>power_14</th>\n",
       "      <th>power_15</th>\n",
       "      <th>price</th>\n",
       "    </tr>\n",
       "  </thead>\n",
       "  <tbody>\n",
       "    <tr>\n",
       "      <th>19452</th>\n",
       "      <td>290.0</td>\n",
       "      <td>84100.0</td>\n",
       "      <td>24389000.0</td>\n",
       "      <td>7.072810e+09</td>\n",
       "      <td>2.051115e+12</td>\n",
       "      <td>5.948233e+14</td>\n",
       "      <td>1.724988e+17</td>\n",
       "      <td>5.002464e+19</td>\n",
       "      <td>1.450715e+22</td>\n",
       "      <td>4.207072e+24</td>\n",
       "      <td>1.220051e+27</td>\n",
       "      <td>3.538148e+29</td>\n",
       "      <td>1.026063e+32</td>\n",
       "      <td>2.975582e+34</td>\n",
       "      <td>8.629189e+36</td>\n",
       "      <td>142000.0</td>\n",
       "    </tr>\n",
       "    <tr>\n",
       "      <th>15381</th>\n",
       "      <td>370.0</td>\n",
       "      <td>136900.0</td>\n",
       "      <td>50653000.0</td>\n",
       "      <td>1.874161e+10</td>\n",
       "      <td>6.934396e+12</td>\n",
       "      <td>2.565726e+15</td>\n",
       "      <td>9.493188e+17</td>\n",
       "      <td>3.512479e+20</td>\n",
       "      <td>1.299617e+23</td>\n",
       "      <td>4.808584e+25</td>\n",
       "      <td>1.779176e+28</td>\n",
       "      <td>6.582952e+30</td>\n",
       "      <td>2.435692e+33</td>\n",
       "      <td>9.012061e+35</td>\n",
       "      <td>3.334463e+38</td>\n",
       "      <td>276000.0</td>\n",
       "    </tr>\n",
       "  </tbody>\n",
       "</table>\n",
       "</div>"
      ],
      "text/plain": [
       "       power_1   power_2     power_3       power_4       power_5  \\\n",
       "19452    290.0   84100.0  24389000.0  7.072810e+09  2.051115e+12   \n",
       "15381    370.0  136900.0  50653000.0  1.874161e+10  6.934396e+12   \n",
       "\n",
       "            power_6       power_7       power_8       power_9      power_10  \\\n",
       "19452  5.948233e+14  1.724988e+17  5.002464e+19  1.450715e+22  4.207072e+24   \n",
       "15381  2.565726e+15  9.493188e+17  3.512479e+20  1.299617e+23  4.808584e+25   \n",
       "\n",
       "           power_11      power_12      power_13      power_14      power_15  \\\n",
       "19452  1.220051e+27  3.538148e+29  1.026063e+32  2.975582e+34  8.629189e+36   \n",
       "15381  1.779176e+28  6.582952e+30  2.435692e+33  9.012061e+35  3.334463e+38   \n",
       "\n",
       "          price  \n",
       "19452  142000.0  \n",
       "15381  276000.0  "
      ]
     },
     "execution_count": 53,
     "metadata": {},
     "output_type": "execute_result"
    }
   ],
   "source": [
    "poly15_data = polynomial_dataframe(sales['sqft_living'], 15)\n",
    "my_features = poly15_data.columns.values.tolist() \n",
    "poly15_data['price'] = sales['price'] # add price to the data since it's the target\n",
    "poly15_data[:2]"
   ]
  },
  {
   "cell_type": "code",
   "execution_count": 54,
   "metadata": {},
   "outputs": [],
   "source": [
    "# Fit Linear Regression\n",
    "model4 = regr_model.fit(poly15_data[my_features].values.reshape((-1,15)), poly15_data['price'])"
   ]
  },
  {
   "cell_type": "code",
   "execution_count": 55,
   "metadata": {},
   "outputs": [
    {
     "name": "stdout",
     "output_type": "stream",
     "text": [
      "model 4: Coefficients: \n",
      " [ 4.56404164e-91 -6.23779017e-50  2.87780943e-56  2.78197725e-88\n",
      "  1.19863929e-74  2.68553413e-71  2.26147568e-67  1.85900299e-63\n",
      "  1.47144115e-59  1.09771012e-55  7.43509038e-52  4.23015577e-48\n",
      "  1.61618577e-44 -2.49283826e-48  9.59718336e-53]\n",
      "model 4: intercept: \n",
      " 537116.3296378785\n"
     ]
    }
   ],
   "source": [
    "print('model 4:','Coefficients: \\n', model4.coef_)\n",
    "print('model 4:','intercept: \\n', model4.intercept_)"
   ]
  },
  {
   "cell_type": "code",
   "execution_count": 56,
   "metadata": {},
   "outputs": [
    {
     "data": {
      "text/plain": [
       "[<matplotlib.lines.Line2D at 0x7fa6865caf90>,\n",
       " <matplotlib.lines.Line2D at 0x7fa6865caed0>]"
      ]
     },
     "execution_count": 56,
     "metadata": {},
     "output_type": "execute_result"
    },
    {
     "data": {
      "image/png": "[encoded data removed]",
      "text/plain": [
       "<Figure size 432x288 with 1 Axes>"
      ]
     },
     "metadata": {
      "needs_background": "light"
     },
     "output_type": "display_data"
    }
   ],
   "source": [
    "fig = plt.figure()\n",
    "plt.xlabel('15th Degree Polynomial Fit (sqft)')\n",
    "plt.ylabel('Price ($)')\n",
    "plt.plot(poly15_data['power_1'], poly15_data['price'],'.',\n",
    "         poly15_data['power_1'], model4.predict(poly15_data[my_features].values.reshape((-1,15))),'-')"
   ]
  },
  {
   "cell_type": "markdown",
   "metadata": {},
   "source": [
    "Estimate a 15th degree polynomial on all 4 datasets, plot the results and view the coefficients for all four models.<br>\n",
    "**Quiz Question: Is the sign (positive or negative) for power_15 the same in all four models?**"
   ]
  },
  {
   "cell_type": "code",
   "execution_count": 25,
   "metadata": {},
   "outputs": [],
   "source": [
    "#Read Data In\n",
    "sales1 = pd.read_csv('~/Courses/u-wash-machine-learning/regression/data/wk3_kc_house_set_1_data.csv')\n",
    "sales2 = pd.read_csv('~/Courses/u-wash-machine-learning/regression/data/wk3_kc_house_set_2_data.csv')\n",
    "sales3 = pd.read_csv('~/Courses/u-wash-machine-learning/regression/data/wk3_kc_house_set_3_data.csv')\n",
    "sales4 = pd.read_csv('~/Courses/u-wash-machine-learning/regression/data/wk3_kc_house_set_4_data.csv')"
   ]
  },
  {
   "cell_type": "code",
   "execution_count": 29,
   "metadata": {},
   "outputs": [
    {
     "data": {
      "text/plain": [
       "['power_1',\n",
       " 'power_2',\n",
       " 'power_3',\n",
       " 'power_4',\n",
       " 'power_5',\n",
       " 'power_6',\n",
       " 'power_7',\n",
       " 'power_8',\n",
       " 'power_9',\n",
       " 'power_10',\n",
       " 'power_11',\n",
       " 'power_12',\n",
       " 'power_13',\n",
       " 'power_14',\n",
       " 'power_15']"
      ]
     },
     "execution_count": 29,
     "metadata": {},
     "output_type": "execute_result"
    }
   ],
   "source": [
    "#Prepare inputs\n",
    "sales1_15d = polynomial_dataframe(sales1['sqft_living'], 15)\n",
    "sales2_15d = polynomial_dataframe(sales2['sqft_living'], 15)\n",
    "#sales3_15d = polynomial_dataframe(sales3['sqft_living'], 15)\n",
    "#sales4_15d = polynomial_dataframe(sales4['sqft_living'], 15)\n",
    "\n",
    "my_features = sales1_15d.columns.values.tolist()\n",
    "\n",
    "sales1_15d['price'] = sales1['price']\n",
    "sales2_15d['price'] = sales2['price']\n",
    "#sales3_15d['price'] = sales3['price']\n",
    "#sales4_15d['price'] = sales4['price']\n",
    "my_features"
   ]
  },
  {
   "cell_type": "code",
   "execution_count": 38,
   "metadata": {},
   "outputs": [],
   "source": [
    "# Fit Models\n",
    "model_sales1 = regr_model.fit(sales1_15d[my_features].values.reshape((-1,15)), sales1_15d['price'])"
   ]
  },
  {
   "cell_type": "code",
   "execution_count": 39,
   "metadata": {},
   "outputs": [
    {
     "name": "stdout",
     "output_type": "stream",
     "text": [
      "model_sales1: Coefficients: \n",
      " [ 1.76313235e-05  4.45214235e-02  4.14044009e-06 -4.48125568e-10\n",
      " -2.26138552e-14  9.71445147e-17 -7.16440796e-16  2.93168267e-16\n",
      " -1.71737624e-16 -1.27155231e-15  1.25333771e-16  5.46654735e-16\n",
      "  1.95156391e-16 -3.12250226e-16 -3.74700271e-16]\n",
      "model_sales1: intercept: \n",
      " 274663.1537476826\n"
     ]
    }
   ],
   "source": [
    "print('model_sales1:','Coefficients: \\n', model_sales1.coef_)\n",
    "print('model_sales1:','intercept: \\n', model_sales1.intercept_)"
   ]
  },
  {
   "cell_type": "code",
   "execution_count": 57,
   "metadata": {},
   "outputs": [],
   "source": [
    "model_sales2 = regr_model.fit(sales2_15d[my_features].values.reshape((-1,15)), sales2_15d['price'])"
   ]
  },
  {
   "cell_type": "code",
   "execution_count": 58,
   "metadata": {},
   "outputs": [
    {
     "name": "stdout",
     "output_type": "stream",
     "text": [
      "model_sales2: Coefficients: \n",
      " [ 3.01064795e-05  6.13841889e-02 -2.50816919e-06  1.10987768e-10\n",
      " -1.77149961e-14  7.97972799e-16 -3.53016227e-16 -2.97938757e-16\n",
      " -6.05418493e-16  3.78169718e-16  7.14706072e-16  7.61543606e-16\n",
      "  1.03736464e-15 -4.66640615e-16  1.33920652e-15]\n",
      "model_sales2: intercept: \n",
      " 255741.7543627802\n"
     ]
    }
   ],
   "source": [
    "print('model_sales2:','Coefficients: \\n', model_sales2.coef_)\n",
    "print('model_sales2:','intercept: \\n', model_sales2.intercept_)"
   ]
  },
  {
   "cell_type": "code",
   "execution_count": 42,
   "metadata": {},
   "outputs": [],
   "source": [
    "model_sales3 = regr_model.fit(sales3_15d[my_features].values.reshape((-1,15)), sales3_15d['price'])"
   ]
  },
  {
   "cell_type": "code",
   "execution_count": 43,
   "metadata": {},
   "outputs": [
    {
     "name": "stdout",
     "output_type": "stream",
     "text": [
      "model_sales3: Coefficients: \n",
      " [ 3.06186775e-05  6.77694137e-02 -5.36064129e-06  4.61981724e-10\n",
      " -1.31734901e-14 -1.52655666e-16 -3.53016227e-16  5.70724024e-16\n",
      "  4.42354486e-16  5.27355937e-16 -2.34621350e-16  1.13277443e-15\n",
      "  6.24500451e-16  3.27862737e-16 -2.49800181e-16]\n",
      "model_sales3: intercept: \n",
      " 251790.810599196\n"
     ]
    }
   ],
   "source": [
    "print('model_sales3:','Coefficients: \\n', model_sales3.coef_)\n",
    "print('model_sales3:','intercept: \\n', model_sales3.intercept_)"
   ]
  },
  {
   "cell_type": "code",
   "execution_count": 44,
   "metadata": {},
   "outputs": [],
   "source": [
    "model_sales4 = regr_model.fit(sales4_15d[my_features].values.reshape((-1,15)), sales4_15d['price'])"
   ]
  },
  {
   "cell_type": "code",
   "execution_count": 46,
   "metadata": {},
   "outputs": [
    {
     "name": "stdout",
     "output_type": "stream",
     "text": [
      "model_sales4: Coefficients: \n",
      " [ 2.92217595e-05  5.47111154e-02 -1.41236113e-06  7.10526183e-11\n",
      "  3.46146722e-14 -1.23512311e-15 -4.09394740e-16  8.96852037e-16\n",
      " -4.89192020e-16 -5.32560107e-16  2.68882139e-16  3.93782229e-16\n",
      "  2.87964097e-16 -1.03736464e-15 -3.26128013e-16]\n",
      "model_sales4: intercept: \n",
      " 269770.7312103356\n"
     ]
    }
   ],
   "source": [
    "print('model_sales4:','Coefficients: \\n', model_sales4.coef_)\n",
    "print('model_sales4:','intercept: \\n', model_sales4.intercept_)"
   ]
  },
  {
   "cell_type": "code",
   "execution_count": 54,
   "metadata": {},
   "outputs": [
    {
     "data": {
      "text/plain": [
       "[<matplotlib.lines.Line2D at 0x7f894cd39f10>,\n",
       " <matplotlib.lines.Line2D at 0x7f894cf33b10>]"
      ]
     },
     "execution_count": 54,
     "metadata": {},
     "output_type": "execute_result"
    },
    {
     "data": {
      "image/png": "[encoded data removed]",
      "text/plain": [
       "<Figure size 432x288 with 1 Axes>"
      ]
     },
     "metadata": {
      "needs_background": "light"
     },
     "output_type": "display_data"
    }
   ],
   "source": [
    "fig = plt.figure()\n",
    "plt.xlabel('15th Degree Polynomial Fit (sqft)')\n",
    "plt.ylabel('Price ($)')\n",
    "plt.plot(sales1_15d['power_1'], sales1_15d['price'],'.',\n",
    "         sales1_15d['power_1'], model_sales1.predict(sales1_15d[my_features].values.reshape((-1,15))),'-')"
   ]
  },
  {
   "cell_type": "code",
   "execution_count": 53,
   "metadata": {},
   "outputs": [
    {
     "data": {
      "text/plain": [
       "[<matplotlib.lines.Line2D at 0x7f894cd43c90>,\n",
       " <matplotlib.lines.Line2D at 0x7f894cf9e1d0>]"
      ]
     },
     "execution_count": 53,
     "metadata": {},
     "output_type": "execute_result"
    },
    {
     "data": {
      "image/png": "[encoded data removed]",
      "text/plain": [
       "<Figure size 432x288 with 1 Axes>"
      ]
     },
     "metadata": {
      "needs_background": "light"
     },
     "output_type": "display_data"
    }
   ],
   "source": [
    "plt.xlabel('15th Degree Polynomial Fit (sqft)')\n",
    "plt.ylabel('Price ($)')\n",
    "plt.plot(sales2_15d['power_1'], sales2_15d['price'],'.',\n",
    "         sales2_15d['power_1'], model_sales2.predict(sales2_15d[my_features].values.reshape((-1,15))),'-')"
   ]
  },
  {
   "cell_type": "code",
   "execution_count": 55,
   "metadata": {},
   "outputs": [
    {
     "data": {
      "text/plain": [
       "[<matplotlib.lines.Line2D at 0x7f894d2bce90>,\n",
       " <matplotlib.lines.Line2D at 0x7f894d366f90>]"
      ]
     },
     "execution_count": 55,
     "metadata": {},
     "output_type": "execute_result"
    },
    {
     "data": {
      "image/png": "[encoded data removed]",
      "text/plain": [
       "<Figure size 432x288 with 1 Axes>"
      ]
     },
     "metadata": {
      "needs_background": "light"
     },
     "output_type": "display_data"
    }
   ],
   "source": [
    "plt.xlabel('15th Degree Polynomial Fit (sqft)')\n",
    "plt.ylabel('Price ($)')\n",
    "plt.plot(sales3_15d['power_1'], sales3_15d['price'],'.',\n",
    "         sales3_15d['power_1'], model_sales3.predict(sales3_15d[my_features].values.reshape((-1,15))),'-')"
   ]
  },
  {
   "cell_type": "code",
   "execution_count": 56,
   "metadata": {},
   "outputs": [
    {
     "data": {
      "text/plain": [
       "[<matplotlib.lines.Line2D at 0x7f894d551950>,\n",
       " <matplotlib.lines.Line2D at 0x7f894d551d10>]"
      ]
     },
     "execution_count": 56,
     "metadata": {},
     "output_type": "execute_result"
    },
    {
     "data": {
      "image/png": "[encoded data removed]",
      "text/plain": [
       "<Figure size 432x288 with 1 Axes>"
      ]
     },
     "metadata": {
      "needs_background": "light"
     },
     "output_type": "display_data"
    }
   ],
   "source": [
    "plt.xlabel('15th Degree Polynomial Fit (sqft)')\n",
    "plt.ylabel('Price ($)')\n",
    "plt.plot(sales4_15d['power_1'], sales4_15d['price'],'.',\n",
    "         sales4_15d['power_1'], model_sales4.predict(sales4_15d[my_features].values.reshape((-1,15))),'-')"
   ]
  },
  {
   "cell_type": "code",
   "execution_count": 64,
   "metadata": {},
   "outputs": [
    {
     "name": "stdout",
     "output_type": "stream",
     "text": [
      "sales data: 21613\n",
      "testing data: 2217\n",
      "training data: 9761\n",
      "validation data: 9635\n"
     ]
    }
   ],
   "source": [
    "test_sales = pd.read_csv('~/Courses/u-wash-machine-learning/regression/data/wk3_kc_house_test_data.csv')\n",
    "train_sales = pd.read_csv('~/Courses/u-wash-machine-learning/regression/data/wk3_kc_house_train_data.csv')\n",
    "valid_sales = pd.read_csv('~/Courses/u-wash-machine-learning/regression/data/wk3_kc_house_valid_data.csv')\n",
    "\n",
    "print ('sales data: ' + str(len(sales)))\n",
    "print ('testing data: ' + str(len(test_sales)))\n",
    "print ('training data: '+ str(len(train_sales)))\n",
    "print ('validation data: ' + str(len(valid_sales)))"
   ]
  },
  {
   "cell_type": "code",
   "execution_count": 62,
   "metadata": {},
   "outputs": [],
   "source": [
    "def get_residual_sum_of_squares(model, data, outcome):\n",
    "    # First get the predictions\n",
    "    y_pred = model.predict(data)\n",
    "\n",
    "    # Then compute the residuals/errors\n",
    "    residuals = outcome - y_pred\n",
    "\n",
    "    # Then square and add them up\n",
    "    RSS = (residuals * residuals).sum()\n",
    "\n",
    "    return(RSS)"
   ]
  },
  {
   "cell_type": "code",
   "execution_count": 70,
   "metadata": {},
   "outputs": [
    {
     "name": "stderr",
     "output_type": "stream",
     "text": [
      "/Users/wbailey7/venv/lib/python3.7/site-packages/sklearn/base.py:444: UserWarning: X has feature names, but LinearRegression was fitted without feature names\n",
      "  f\"X has feature names, but {self.__class__.__name__} was fitted without\"\n",
      "/Users/wbailey7/venv/lib/python3.7/site-packages/sklearn/base.py:444: UserWarning: X has feature names, but LinearRegression was fitted without feature names\n",
      "  f\"X has feature names, but {self.__class__.__name__} was fitted without\"\n",
      "/Users/wbailey7/venv/lib/python3.7/site-packages/sklearn/base.py:444: UserWarning: X has feature names, but LinearRegression was fitted without feature names\n",
      "  f\"X has feature names, but {self.__class__.__name__} was fitted without\"\n",
      "/Users/wbailey7/venv/lib/python3.7/site-packages/sklearn/base.py:444: UserWarning: X has feature names, but LinearRegression was fitted without feature names\n",
      "  f\"X has feature names, but {self.__class__.__name__} was fitted without\"\n",
      "/Users/wbailey7/venv/lib/python3.7/site-packages/sklearn/base.py:444: UserWarning: X has feature names, but LinearRegression was fitted without feature names\n",
      "  f\"X has feature names, but {self.__class__.__name__} was fitted without\"\n",
      "/Users/wbailey7/venv/lib/python3.7/site-packages/sklearn/base.py:444: UserWarning: X has feature names, but LinearRegression was fitted without feature names\n",
      "  f\"X has feature names, but {self.__class__.__name__} was fitted without\"\n",
      "/Users/wbailey7/venv/lib/python3.7/site-packages/sklearn/base.py:444: UserWarning: X has feature names, but LinearRegression was fitted without feature names\n",
      "  f\"X has feature names, but {self.__class__.__name__} was fitted without\"\n",
      "/Users/wbailey7/venv/lib/python3.7/site-packages/sklearn/base.py:444: UserWarning: X has feature names, but LinearRegression was fitted without feature names\n",
      "  f\"X has feature names, but {self.__class__.__name__} was fitted without\"\n",
      "/Users/wbailey7/venv/lib/python3.7/site-packages/sklearn/base.py:444: UserWarning: X has feature names, but LinearRegression was fitted without feature names\n",
      "  f\"X has feature names, but {self.__class__.__name__} was fitted without\"\n",
      "/Users/wbailey7/venv/lib/python3.7/site-packages/sklearn/base.py:444: UserWarning: X has feature names, but LinearRegression was fitted without feature names\n",
      "  f\"X has feature names, but {self.__class__.__name__} was fitted without\"\n",
      "/Users/wbailey7/venv/lib/python3.7/site-packages/sklearn/base.py:444: UserWarning: X has feature names, but LinearRegression was fitted without feature names\n",
      "  f\"X has feature names, but {self.__class__.__name__} was fitted without\"\n",
      "/Users/wbailey7/venv/lib/python3.7/site-packages/sklearn/base.py:444: UserWarning: X has feature names, but LinearRegression was fitted without feature names\n",
      "  f\"X has feature names, but {self.__class__.__name__} was fitted without\"\n",
      "/Users/wbailey7/venv/lib/python3.7/site-packages/sklearn/base.py:444: UserWarning: X has feature names, but LinearRegression was fitted without feature names\n",
      "  f\"X has feature names, but {self.__class__.__name__} was fitted without\"\n",
      "/Users/wbailey7/venv/lib/python3.7/site-packages/sklearn/base.py:444: UserWarning: X has feature names, but LinearRegression was fitted without feature names\n",
      "  f\"X has feature names, but {self.__class__.__name__} was fitted without\"\n",
      "/Users/wbailey7/venv/lib/python3.7/site-packages/sklearn/base.py:444: UserWarning: X has feature names, but LinearRegression was fitted without feature names\n",
      "  f\"X has feature names, but {self.__class__.__name__} was fitted without\"\n",
      "/Users/wbailey7/venv/lib/python3.7/site-packages/sklearn/base.py:444: UserWarning: X has feature names, but LinearRegression was fitted without feature names\n",
      "  f\"X has feature names, but {self.__class__.__name__} was fitted without\"\n",
      "/Users/wbailey7/venv/lib/python3.7/site-packages/sklearn/base.py:444: UserWarning: X has feature names, but LinearRegression was fitted without feature names\n",
      "  f\"X has feature names, but {self.__class__.__name__} was fitted without\"\n",
      "/Users/wbailey7/venv/lib/python3.7/site-packages/sklearn/base.py:444: UserWarning: X has feature names, but LinearRegression was fitted without feature names\n",
      "  f\"X has feature names, but {self.__class__.__name__} was fitted without\"\n",
      "/Users/wbailey7/venv/lib/python3.7/site-packages/sklearn/base.py:444: UserWarning: X has feature names, but LinearRegression was fitted without feature names\n",
      "  f\"X has feature names, but {self.__class__.__name__} was fitted without\"\n",
      "/Users/wbailey7/venv/lib/python3.7/site-packages/sklearn/base.py:444: UserWarning: X has feature names, but LinearRegression was fitted without feature names\n",
      "  f\"X has feature names, but {self.__class__.__name__} was fitted without\"\n",
      "/Users/wbailey7/venv/lib/python3.7/site-packages/sklearn/base.py:444: UserWarning: X has feature names, but LinearRegression was fitted without feature names\n",
      "  f\"X has feature names, but {self.__class__.__name__} was fitted without\"\n",
      "/Users/wbailey7/venv/lib/python3.7/site-packages/sklearn/base.py:444: UserWarning: X has feature names, but LinearRegression was fitted without feature names\n",
      "  f\"X has feature names, but {self.__class__.__name__} was fitted without\"\n",
      "/Users/wbailey7/venv/lib/python3.7/site-packages/sklearn/base.py:444: UserWarning: X has feature names, but LinearRegression was fitted without feature names\n",
      "  f\"X has feature names, but {self.__class__.__name__} was fitted without\"\n",
      "/Users/wbailey7/venv/lib/python3.7/site-packages/sklearn/base.py:444: UserWarning: X has feature names, but LinearRegression was fitted without feature names\n",
      "  f\"X has feature names, but {self.__class__.__name__} was fitted without\"\n",
      "/Users/wbailey7/venv/lib/python3.7/site-packages/sklearn/base.py:444: UserWarning: X has feature names, but LinearRegression was fitted without feature names\n",
      "  f\"X has feature names, but {self.__class__.__name__} was fitted without\"\n",
      "/Users/wbailey7/venv/lib/python3.7/site-packages/sklearn/base.py:444: UserWarning: X has feature names, but LinearRegression was fitted without feature names\n",
      "  f\"X has feature names, but {self.__class__.__name__} was fitted without\"\n",
      "/Users/wbailey7/venv/lib/python3.7/site-packages/sklearn/base.py:444: UserWarning: X has feature names, but LinearRegression was fitted without feature names\n",
      "  f\"X has feature names, but {self.__class__.__name__} was fitted without\"\n"
     ]
    },
    {
     "name": "stdout",
     "output_type": "stream",
     "text": [
      "rss of each model on validation data: {1: 629097886299585.8, 2: 623955062706518.1, 3: 625820280251670.5, 4: 629987335742088.1, 5: 623372998856313.0, 6: 623243653937253.0, 7: 623177588035078.9, 8: 623373703580694.8, 9: 623370162934554.0, 10: 623405652309051.0, 11: 623530842324400.2, 12: 623376976236003.5, 13: 623322214811581.2, 14: 623256045543393.8, 15: 623381035422167.2}\n",
      "rss of each model on test data: {1: 142347931358638.7, 2: 135542039274080.42, 3: 135585996079046.9, 4: 135382681360753.81, 5: 136772404244466.16, 6: 136765707091172.69, 7: 136759484743128.66, 8: 136783743512339.61, 9: 136771108983781.83, 10: 136765662746179.66, 11: 136768471804029.56, 12: 136738328651450.03, 13: 136813543127721.16, 14: 136980703314060.66, 15: 137014300227881.56}\n"
     ]
    },
    {
     "name": "stderr",
     "output_type": "stream",
     "text": [
      "/Users/wbailey7/venv/lib/python3.7/site-packages/sklearn/base.py:444: UserWarning: X has feature names, but LinearRegression was fitted without feature names\n",
      "  f\"X has feature names, but {self.__class__.__name__} was fitted without\"\n",
      "/Users/wbailey7/venv/lib/python3.7/site-packages/sklearn/base.py:444: UserWarning: X has feature names, but LinearRegression was fitted without feature names\n",
      "  f\"X has feature names, but {self.__class__.__name__} was fitted without\"\n",
      "/Users/wbailey7/venv/lib/python3.7/site-packages/sklearn/base.py:444: UserWarning: X has feature names, but LinearRegression was fitted without feature names\n",
      "  f\"X has feature names, but {self.__class__.__name__} was fitted without\"\n",
      "/Users/wbailey7/venv/lib/python3.7/site-packages/sklearn/base.py:444: UserWarning: X has feature names, but LinearRegression was fitted without feature names\n",
      "  f\"X has feature names, but {self.__class__.__name__} was fitted without\"\n",
      "/Users/wbailey7/venv/lib/python3.7/site-packages/sklearn/base.py:444: UserWarning: X has feature names, but LinearRegression was fitted without feature names\n",
      "  f\"X has feature names, but {self.__class__.__name__} was fitted without\"\n",
      "/Users/wbailey7/venv/lib/python3.7/site-packages/sklearn/base.py:444: UserWarning: X has feature names, but LinearRegression was fitted without feature names\n",
      "  f\"X has feature names, but {self.__class__.__name__} was fitted without\"\n",
      "/Users/wbailey7/venv/lib/python3.7/site-packages/sklearn/base.py:444: UserWarning: X has feature names, but LinearRegression was fitted without feature names\n",
      "  f\"X has feature names, but {self.__class__.__name__} was fitted without\"\n",
      "/Users/wbailey7/venv/lib/python3.7/site-packages/sklearn/base.py:444: UserWarning: X has feature names, but LinearRegression was fitted without feature names\n",
      "  f\"X has feature names, but {self.__class__.__name__} was fitted without\"\n",
      "/Users/wbailey7/venv/lib/python3.7/site-packages/sklearn/base.py:444: UserWarning: X has feature names, but LinearRegression was fitted without feature names\n",
      "  f\"X has feature names, but {self.__class__.__name__} was fitted without\"\n",
      "/Users/wbailey7/venv/lib/python3.7/site-packages/sklearn/base.py:444: UserWarning: X has feature names, but LinearRegression was fitted without feature names\n",
      "  f\"X has feature names, but {self.__class__.__name__} was fitted without\"\n",
      "/Users/wbailey7/venv/lib/python3.7/site-packages/sklearn/base.py:444: UserWarning: X has feature names, but LinearRegression was fitted without feature names\n",
      "  f\"X has feature names, but {self.__class__.__name__} was fitted without\"\n",
      "/Users/wbailey7/venv/lib/python3.7/site-packages/sklearn/base.py:444: UserWarning: X has feature names, but LinearRegression was fitted without feature names\n",
      "  f\"X has feature names, but {self.__class__.__name__} was fitted without\"\n",
      "/Users/wbailey7/venv/lib/python3.7/site-packages/sklearn/base.py:444: UserWarning: X has feature names, but LinearRegression was fitted without feature names\n",
      "  f\"X has feature names, but {self.__class__.__name__} was fitted without\"\n",
      "/Users/wbailey7/venv/lib/python3.7/site-packages/sklearn/base.py:444: UserWarning: X has feature names, but LinearRegression was fitted without feature names\n",
      "  f\"X has feature names, but {self.__class__.__name__} was fitted without\"\n",
      "/Users/wbailey7/venv/lib/python3.7/site-packages/sklearn/base.py:444: UserWarning: X has feature names, but LinearRegression was fitted without feature names\n",
      "  f\"X has feature names, but {self.__class__.__name__} was fitted without\"\n",
      "/Users/wbailey7/venv/lib/python3.7/site-packages/sklearn/base.py:444: UserWarning: X has feature names, but LinearRegression was fitted without feature names\n",
      "  f\"X has feature names, but {self.__class__.__name__} was fitted without\"\n",
      "/Users/wbailey7/venv/lib/python3.7/site-packages/sklearn/base.py:444: UserWarning: X has feature names, but LinearRegression was fitted without feature names\n",
      "  f\"X has feature names, but {self.__class__.__name__} was fitted without\"\n",
      "/Users/wbailey7/venv/lib/python3.7/site-packages/sklearn/base.py:444: UserWarning: X has feature names, but LinearRegression was fitted without feature names\n",
      "  f\"X has feature names, but {self.__class__.__name__} was fitted without\"\n"
     ]
    }
   ],
   "source": [
    "rssDic = {}\n",
    "rssDictest = {}\n",
    "modelDic = {}\n",
    "for i in range(1,15+1):\n",
    "    poly_train_data  = polynomial_dataframe(train_sales['sqft_living'], i)\n",
    "    poly_features = poly_train_data.columns.values.tolist()\n",
    "    modelDic[i] = regr_model.fit(poly_train_data[poly_features].values.reshape((-1,i)), train_sales['price'])\n",
    "    \n",
    "    poly_valid_data = polynomial_dataframe(valid_sales['sqft_living'], i)\n",
    "    \n",
    "    poly_test_data = polynomial_dataframe(test_sales['sqft_living'], i)\n",
    "    predictions = modelDic[i].predict(poly_valid_data[poly_features])\n",
    "    \n",
    "    rssDic[i] = get_residual_sum_of_squares(modelDic[i], poly_valid_data, valid_sales['price'])\n",
    "    rssDictest[i] = get_residual_sum_of_squares(modelDic[i], poly_test_data, test_sales['price'])\n",
    "\n",
    "print('rss of each model on validation data:',rssDic)\n",
    "print('rss of each model on test data:',rssDictest)"
   ]
  },
  {
   "cell_type": "markdown",
   "metadata": {},
   "source": [
    "# Polynomial_sframe function"
   ]
  },
  {
   "cell_type": "markdown",
   "metadata": {},
   "source": [
    "Using the hints above complete the following function to create an SFrame consisting of the powers of an SArray up to a specific degree:"
   ]
  },
  {
   "cell_type": "code",
   "execution_count": null,
   "metadata": {},
   "outputs": [],
   "source": [
    "def polynomial_sframe(feature, degree):\n",
    "    # assume that degree >= 1\n",
    "    # initialize the SFrame:\n",
    "    poly_sframe = turicreate.SFrame()\n",
    "    # and set poly_sframe['power_1'] equal to the passed feature\n",
    "\n",
    "    # first check if degree > 1\n",
    "    if degree > 1:\n",
    "        # then loop over the remaining degrees:\n",
    "        # range usually starts at 0 and stops at the endpoint-1. We want it to start at 2 and stop at degree\n",
    "        for power in range(2, degree+1): \n",
    "            # first we'll give the column a name:\n",
    "            name = 'power_' + str(power)\n",
    "            # then assign poly_sframe[name] to the appropriate power of feature\n",
    "\n",
    "    return poly_sframe"
   ]
  },
  {
   "cell_type": "markdown",
   "metadata": {},
   "source": [
    "To test your function consider the smaller tmp variable and what you would expect the outcome of the following call:"
   ]
  },
  {
   "cell_type": "code",
   "execution_count": null,
   "metadata": {},
   "outputs": [],
   "source": [
    "print polynomial_sframe(tmp, 3)"
   ]
  },
  {
   "cell_type": "markdown",
   "metadata": {},
   "source": [
    "# Visualizing polynomial regression"
   ]
  },
  {
   "cell_type": "markdown",
   "metadata": {},
   "source": [
    "Let's use matplotlib to visualize what a polynomial regression looks like on some real data."
   ]
  },
  {
   "cell_type": "code",
   "execution_count": null,
   "metadata": {},
   "outputs": [],
   "source": [
    "sales = turicreate.SFrame('home_data.sframe/')"
   ]
  },
  {
   "cell_type": "markdown",
   "metadata": {},
   "source": [
    "As in Week 3, we will use the sqft_living variable. For plotting purposes (connecting the dots), you'll need to sort by the values of sqft_living. For houses with identical square footage, we break the tie by their prices."
   ]
  },
  {
   "cell_type": "code",
   "execution_count": null,
   "metadata": {},
   "outputs": [],
   "source": [
    "sales = sales.sort(['sqft_living', 'price'])"
   ]
  },
  {
   "cell_type": "markdown",
   "metadata": {},
   "source": [
    "Let's start with a degree 1 polynomial using 'sqft_living' (i.e. a line) to predict 'price' and plot what it looks like."
   ]
  },
  {
   "cell_type": "code",
   "execution_count": null,
   "metadata": {},
   "outputs": [],
   "source": [
    "poly1_data = polynomial_sframe(sales['sqft_living'], 1)\n",
    "poly1_data['price'] = sales['price'] # add price to the data since it's the target"
   ]
  },
  {
   "cell_type": "markdown",
   "metadata": {},
   "source": [
    "NOTE: for all the models in this notebook use validation_set = None to ensure that all results are consistent across users."
   ]
  },
  {
   "cell_type": "code",
   "execution_count": null,
   "metadata": {},
   "outputs": [],
   "source": [
    "model1 = turicreate.linear_regression.create(poly1_data, target = 'price', features = ['power_1'], validation_set = None)"
   ]
  },
  {
   "cell_type": "code",
   "execution_count": null,
   "metadata": {},
   "outputs": [],
   "source": [
    "#let's take a look at the weights before we plot\n",
    "model1.coefficients"
   ]
  },
  {
   "cell_type": "code",
   "execution_count": null,
   "metadata": {},
   "outputs": [],
   "source": [
    "import matplotlib.pyplot as plt\n",
    "%matplotlib inline"
   ]
  },
  {
   "cell_type": "code",
   "execution_count": null,
   "metadata": {},
   "outputs": [],
   "source": [
    "plt.plot(poly1_data['power_1'],poly1_data['price'],'.',\n",
    "         poly1_data['power_1'], model1.predict(poly1_data),'-')"
   ]
  },
  {
   "cell_type": "markdown",
   "metadata": {},
   "source": [
    "Let's unpack that plt.plot() command. The first pair of SArrays we passed are the 1st power of sqft and the actual price we then ask it to print these as dots '.'. The next pair we pass is the 1st power of sqft and the predicted values from the linear model. We ask these to be plotted as a line '-'. \n",
    "\n",
    "We can see, not surprisingly, that the predicted values all fall on a line, specifically the one with slope 280 and intercept -43579. What if we wanted to plot a second degree polynomial?"
   ]
  },
  {
   "cell_type": "code",
   "execution_count": null,
   "metadata": {},
   "outputs": [],
   "source": [
    "poly2_data = polynomial_sframe(sales['sqft_living'], 2)\n",
    "my_features = poly2_data.column_names() # get the name of the features\n",
    "poly2_data['price'] = sales['price'] # add price to the data since it's the target\n",
    "model2 = turicreate.linear_regression.create(poly2_data, target = 'price', features = my_features, validation_set = None)"
   ]
  },
  {
   "cell_type": "code",
   "execution_count": null,
   "metadata": {},
   "outputs": [],
   "source": [
    "model2.coefficients"
   ]
  },
  {
   "cell_type": "code",
   "execution_count": null,
   "metadata": {},
   "outputs": [],
   "source": [
    "plt.plot(poly2_data['power_1'],poly2_data['price'],'.',\n",
    "         poly2_data['power_1'], model2.predict(poly2_data),'-')"
   ]
  },
  {
   "cell_type": "markdown",
   "metadata": {},
   "source": [
    "The resulting model looks like half a parabola. Try on your own to see what the cubic looks like:"
   ]
  },
  {
   "cell_type": "code",
   "execution_count": null,
   "metadata": {},
   "outputs": [],
   "source": []
  },
  {
   "cell_type": "code",
   "execution_count": null,
   "metadata": {},
   "outputs": [],
   "source": []
  },
  {
   "cell_type": "markdown",
   "metadata": {},
   "source": [
    "Now try a 15th degree polynomial:"
   ]
  },
  {
   "cell_type": "code",
   "execution_count": null,
   "metadata": {},
   "outputs": [],
   "source": []
  },
  {
   "cell_type": "code",
   "execution_count": null,
   "metadata": {},
   "outputs": [],
   "source": []
  },
  {
   "cell_type": "markdown",
   "metadata": {},
   "source": [
    "What do you think of the 15th degree polynomial? Do you think this is appropriate? If we were to change the data do you think you'd get pretty much the same curve? Let's take a look."
   ]
  },
  {
   "cell_type": "markdown",
   "metadata": {},
   "source": [
    "# Changing the data and re-learning"
   ]
  },
  {
   "cell_type": "markdown",
   "metadata": {},
   "source": [
    "We're going to split the sales data into four subsets of roughly equal size. Then you will estimate a 15th degree polynomial model on all four subsets of the data. Print the coefficients (you should use .print_rows(num_rows = 16) to view all of them) and plot the resulting fit (as we did above). The quiz will ask you some questions about these results.\n",
    "\n",
    "To split the sales data into four subsets, we perform the following steps:\n",
    "* First split sales into 2 subsets with `.random_split(0.5, seed=0)`. \n",
    "* Next split the resulting subsets into 2 more subsets each. Use `.random_split(0.5, seed=0)`.\n",
    "\n",
    "We set `seed=0` in these steps so that different users get consistent results.\n",
    "You should end up with 4 subsets (`set_1`, `set_2`, `set_3`, `set_4`) of approximately equal size. "
   ]
  },
  {
   "cell_type": "code",
   "execution_count": null,
   "metadata": {},
   "outputs": [],
   "source": []
  },
  {
   "cell_type": "markdown",
   "metadata": {},
   "source": [
    "Fit a 15th degree polynomial on set_1, set_2, set_3, and set_4 using sqft_living to predict prices. Print the coefficients and make a plot of the resulting model."
   ]
  },
  {
   "cell_type": "code",
   "execution_count": null,
   "metadata": {},
   "outputs": [],
   "source": []
  },
  {
   "cell_type": "code",
   "execution_count": null,
   "metadata": {},
   "outputs": [],
   "source": []
  },
  {
   "cell_type": "code",
   "execution_count": null,
   "metadata": {},
   "outputs": [],
   "source": []
  },
  {
   "cell_type": "code",
   "execution_count": null,
   "metadata": {},
   "outputs": [],
   "source": []
  },
  {
   "cell_type": "markdown",
   "metadata": {},
   "source": [
    "Some questions you will be asked on your quiz:\n",
    "\n",
    "**Quiz Question: Is the sign (positive or negative) for power_15 the same in all four models?**\n",
    "\n",
    "**Quiz Question: (True/False) the plotted fitted lines look the same in all four plots**"
   ]
  },
  {
   "cell_type": "markdown",
   "metadata": {},
   "source": [
    "# Selecting a Polynomial Degree"
   ]
  },
  {
   "cell_type": "markdown",
   "metadata": {},
   "source": [
    "Whenever we have a \"magic\" parameter like the degree of the polynomial there is one well-known way to select these parameters: validation set. (We will explore another approach in week 4).\n",
    "\n",
    "We split the sales dataset 3-way into training set, test set, and validation set as follows:\n",
    "\n",
    "* Split our sales data into 2 sets: `training_and_validation` and `testing`. Use `random_split(0.9, seed=1)`.\n",
    "* Further split our training data into two sets: `training` and `validation`. Use `random_split(0.5, seed=1)`.\n",
    "\n",
    "Again, we set `seed=1` to obtain consistent results for different users."
   ]
  },
  {
   "cell_type": "code",
   "execution_count": null,
   "metadata": {},
   "outputs": [],
   "source": []
  },
  {
   "cell_type": "markdown",
   "metadata": {},
   "source": [
    "Next you should write a loop that does the following:\n",
    "* For degree in [1, 2, 3, 4, 5, 6, 7, 8, 9, 10, 11, 12, 13, 14, 15] (to get this in python type range(1, 15+1))\n",
    "    * Build an SFrame of polynomial data of train_data['sqft_living'] at the current degree\n",
    "    * hint: my_features = poly_data.column_names() gives you a list e.g. ['power_1', 'power_2', 'power_3'] which you might find useful for turicreate.linear_regression.create( features = my_features)\n",
    "    * Add train_data['price'] to the polynomial SFrame\n",
    "    * Learn a polynomial regression model to sqft vs price with that degree on TRAIN data\n",
    "    * Compute the RSS on VALIDATION data (here you will want to use .predict()) for that degree and you will need to make a polynmial SFrame using validation data.\n",
    "* Report which degree had the lowest RSS on validation data (remember python indexes from 0)\n",
    "\n",
    "(Note you can turn off the print out of linear_regression.create() with verbose = False)"
   ]
  },
  {
   "cell_type": "code",
   "execution_count": null,
   "metadata": {},
   "outputs": [],
   "source": []
  },
  {
   "cell_type": "markdown",
   "metadata": {},
   "source": [
    "**Quiz Question: Which degree (1, 2, …, 15) had the lowest RSS on Validation data?**"
   ]
  },
  {
   "cell_type": "markdown",
   "metadata": {},
   "source": [
    "Now that you have chosen the degree of your polynomial using validation data, compute the RSS of this model on TEST data. Report the RSS on your quiz."
   ]
  },
  {
   "cell_type": "code",
   "execution_count": null,
   "metadata": {},
   "outputs": [],
   "source": []
  },
  {
   "cell_type": "markdown",
   "metadata": {},
   "source": [
    "**Quiz Question: what is the RSS on TEST data for the model with the degree selected from Validation data?**"
   ]
  },
  {
   "cell_type": "code",
   "execution_count": null,
   "metadata": {},
   "outputs": [],
   "source": []
  }
 ],
 "metadata": {
  "kernelspec": {
   "display_name": "Python 3 (ipykernel)",
   "language": "python",
   "name": "python3"
  },
  "language_info": {
   "codemirror_mode": {
    "name": "ipython",
    "version": 3
   },
   "file_extension": ".py",
   "mimetype": "text/x-python",
   "name": "python",
   "nbconvert_exporter": "python",
   "pygments_lexer": "ipython3",
   "version": "3.7.9"
  }
 },
 "nbformat": 4,
 "nbformat_minor": 4
}
